{
 "cells": [
  {
   "cell_type": "code",
   "execution_count": 1,
   "id": "afb67945-e3cb-468f-bbbb-28e13a7bfefb",
   "metadata": {},
   "outputs": [],
   "source": [
    "import requests"
   ]
  },
  {
   "cell_type": "code",
   "execution_count": 2,
   "id": "4ee73794-8927-4290-9579-e134aa47cfcf",
   "metadata": {},
   "outputs": [
    {
     "data": {
      "text/plain": [
       "{'results': [{'gender': 'male',\n",
       "   'name': {'title': 'Mr', 'first': 'Xico', 'last': 'Farias'},\n",
       "   'location': {'street': {'number': 9625, 'name': 'Rua São Luiz '},\n",
       "    'city': 'Dourados',\n",
       "    'state': 'Mato Grosso do Sul',\n",
       "    'country': 'Brazil',\n",
       "    'postcode': 49409,\n",
       "    'coordinates': {'latitude': '-81.3542', 'longitude': '-16.0893'},\n",
       "    'timezone': {'offset': '+5:30',\n",
       "     'description': 'Bombay, Calcutta, Madras, New Delhi'}},\n",
       "   'email': 'xico.farias@example.com',\n",
       "   'login': {'uuid': 'f6bfc467-bdf5-499f-8d43-f7182ac49e84',\n",
       "    'username': 'crazydog985',\n",
       "    'password': 'snickers',\n",
       "    'salt': 'UZ9vIK8c',\n",
       "    'md5': '75f28b9f008a48b3511dea27314a63af',\n",
       "    'sha1': '66ded51d7fde7dfbaf11db421b9eb3033f2ed6e1',\n",
       "    'sha256': '32079fef5f876ff1486130e3576875691d1d86b12b181b1b317082f42dd64b5a'},\n",
       "   'dob': {'date': '1972-01-04T03:30:44.752Z', 'age': 50},\n",
       "   'registered': {'date': '2004-06-01T08:31:58.402Z', 'age': 18},\n",
       "   'phone': '(16) 8269-5285',\n",
       "   'cell': '(57) 0939-9983',\n",
       "   'id': {'name': 'CPF', 'value': '277.349.404-77'},\n",
       "   'picture': {'large': 'https://randomuser.me/api/portraits/men/51.jpg',\n",
       "    'medium': 'https://randomuser.me/api/portraits/med/men/51.jpg',\n",
       "    'thumbnail': 'https://randomuser.me/api/portraits/thumb/men/51.jpg'},\n",
       "   'nat': 'BR'}],\n",
       " 'info': {'seed': 'bf868e42b2cdde8b',\n",
       "  'results': 1,\n",
       "  'page': 1,\n",
       "  'version': '1.4'}}"
      ]
     },
     "execution_count": 2,
     "metadata": {},
     "output_type": "execute_result"
    }
   ],
   "source": [
    "# Calling your first API.\n",
    "response = requests.get('https://randomuser.me/api/')\n",
    "response.json()"
   ]
  },
  {
   "cell_type": "code",
   "execution_count": 3,
   "id": "397000de-abf1-447d-bf1b-720e5bb5a12c",
   "metadata": {},
   "outputs": [
    {
     "data": {
      "text/plain": [
       "{'message': 'The Dog API', 'version': '1.0.15'}"
      ]
     },
     "execution_count": 3,
     "metadata": {},
     "output_type": "execute_result"
    }
   ],
   "source": [
    "# Calling the base URL.\n",
    "response = requests.get('https://api.thedogapi.com/')\n",
    "response.json()"
   ]
  },
  {
   "cell_type": "code",
   "execution_count": 4,
   "id": "56f57c12-4a4e-407e-a494-e6671ae8a0f7",
   "metadata": {},
   "outputs": [
    {
     "data": {
      "text/plain": [
       "<Response [200]>"
      ]
     },
     "execution_count": 4,
     "metadata": {},
     "output_type": "execute_result"
    }
   ],
   "source": [
    "# Calling /breeds endpoint.\n",
    "response = requests.get('https://api.thedogapi.com/v1/breeds')\n",
    "response"
   ]
  },
  {
   "cell_type": "code",
   "execution_count": 5,
   "id": "554f2e23-da2b-4ac3-bcbf-c21a8d5e31e6",
   "metadata": {},
   "outputs": [
    {
     "name": "stdout",
     "output_type": "stream",
     "text": [
      "404 Not Found\n"
     ]
    }
   ],
   "source": [
    "# Failing request.\n",
    "response = requests.get('https://api.thedogapi.com/v1/breedz')\n",
    "print(response.status_code, response.reason)"
   ]
  },
  {
   "cell_type": "code",
   "execution_count": 6,
   "id": "0c95dc82-ebdb-45d1-b10b-3ccebc1ddff2",
   "metadata": {},
   "outputs": [
    {
     "data": {
      "text/plain": [
       "{'x-dns-prefetch-control': 'off', 'x-frame-options': 'SAMEORIGIN', 'strict-transport-security': 'max-age=15552000; includeSubDomains', 'x-download-options': 'noopen', 'x-content-type-options': 'nosniff', 'x-xss-protection': '1; mode=block', 'vary': 'Origin', 'content-type': 'application/json; charset=utf-8', 'x-response-time': '1ms', 'X-Cloud-Trace-Context': '864f41003c67485bd37f1da46ed2b098', 'Date': 'Fri, 08 Jul 2022 14:49:55 GMT', 'Server': 'Google Frontend', 'Content-Length': '357'}"
      ]
     },
     "execution_count": 6,
     "metadata": {},
     "output_type": "execute_result"
    }
   ],
   "source": [
    "# HTTP response headers.\n",
    "response = requests.get('https://api.thedogapi.com/v1/breeds/1')\n",
    "response.headers"
   ]
  },
  {
   "cell_type": "code",
   "execution_count": 7,
   "id": "db8f383a-fd2f-4263-a502-8cedb5e9ea29",
   "metadata": {},
   "outputs": [
    {
     "data": {
      "text/plain": [
       "{'User-Agent': 'python-requests/2.28.0', 'Accept-Encoding': 'gzip, deflate, br', 'Accept': '*/*', 'Connection': 'keep-alive'}"
      ]
     },
     "execution_count": 7,
     "metadata": {},
     "output_type": "execute_result"
    }
   ],
   "source": [
    "# HTTP request headers.\n",
    "response = requests.get('https://api.thedogapi.com/v1/breeds/1')\n",
    "response.request.headers"
   ]
  },
  {
   "cell_type": "code",
   "execution_count": 8,
   "id": "03b54e43-0ab5-4777-a617-691d70af38ef",
   "metadata": {},
   "outputs": [
    {
     "data": {
      "text/plain": [
       "{'User-Agent': 'python-requests/2.28.0', 'Accept-Encoding': 'gzip, deflate, br', 'Accept': '*/*', 'Connection': 'keep-alive', 'X-Request-Id': '<my-request-id>'}"
      ]
     },
     "execution_count": 8,
     "metadata": {},
     "output_type": "execute_result"
    }
   ],
   "source": [
    "# Sending custom header with HTTP request.\n",
    "headers = {'X-Request-Id': '<my-request-id>'}\n",
    "response = requests.get('https://example.org', headers=headers)\n",
    "response.request.headers"
   ]
  },
  {
   "cell_type": "code",
   "execution_count": 9,
   "id": "de45f171-0451-4598-8b17-cc0f949ee566",
   "metadata": {},
   "outputs": [
    {
     "data": {
      "text/plain": [
       "'application/json; charset=utf-8'"
      ]
     },
     "execution_count": 9,
     "metadata": {},
     "output_type": "execute_result"
    }
   ],
   "source": [
    "# Inspect Content-Type header.\n",
    "response = requests.get('https://api.thedogapi.com/v1/breeds/1')\n",
    "response.headers.get('Content-Type')"
   ]
  },
  {
   "cell_type": "code",
   "execution_count": 10,
   "id": "f13cf5e2-964d-4a1a-bfcc-fe9f90d2070a",
   "metadata": {},
   "outputs": [
    {
     "data": {
      "text/plain": [
       "'{\"weight\":{\"imperial\":\"6 - 13\",\"metric\":\"3 - 6\"},\"height\":{\"imperial\":\"9 - 11.5\",\"metric\":\"23 - 29\"},\"id\":1,\"name\":\"Affenpinscher\",\"bred_for\":\"Small rodent hunting, lapdog\",\"breed_group\":\"Toy\",\"life_span\":\"10 - 12 years\",\"temperament\":\"Stubborn, Curious, Playful, Adventurous, Active, Fun-loving\",\"origin\":\"Germany, France\",\"reference_image_id\":\"BJa4kxc4X\"}'"
      ]
     },
     "execution_count": 10,
     "metadata": {},
     "output_type": "execute_result"
    }
   ],
   "source": [
    "# Return response content in Unicode format.\n",
    "response = requests.get('https://api.thedogapi.com/v1/breeds/1')\n",
    "response.text"
   ]
  },
  {
   "cell_type": "code",
   "execution_count": 11,
   "id": "0c01ccc1-af5e-47fb-89e0-e19ac6f77f6c",
   "metadata": {},
   "outputs": [
    {
     "data": {
      "text/plain": [
       "b'{\"weight\":{\"imperial\":\"6 - 13\",\"metric\":\"3 - 6\"},\"height\":{\"imperial\":\"9 - 11.5\",\"metric\":\"23 - 29\"},\"id\":1,\"name\":\"Affenpinscher\",\"bred_for\":\"Small rodent hunting, lapdog\",\"breed_group\":\"Toy\",\"life_span\":\"10 - 12 years\",\"temperament\":\"Stubborn, Curious, Playful, Adventurous, Active, Fun-loving\",\"origin\":\"Germany, France\",\"reference_image_id\":\"BJa4kxc4X\"}'"
      ]
     },
     "execution_count": 11,
     "metadata": {},
     "output_type": "execute_result"
    }
   ],
   "source": [
    "# Return response content in bytes.\n",
    "response = requests.get('https://api.thedogapi.com/v1/breeds/1')\n",
    "response.content"
   ]
  },
  {
   "cell_type": "code",
   "execution_count": 12,
   "id": "fc96f18f-6486-41f2-8d73-cd21698ff5e3",
   "metadata": {},
   "outputs": [
    {
     "data": {
      "text/plain": [
       "{'weight': {'imperial': '6 - 13', 'metric': '3 - 6'},\n",
       " 'height': {'imperial': '9 - 11.5', 'metric': '23 - 29'},\n",
       " 'id': 1,\n",
       " 'name': 'Affenpinscher',\n",
       " 'bred_for': 'Small rodent hunting, lapdog',\n",
       " 'breed_group': 'Toy',\n",
       " 'life_span': '10 - 12 years',\n",
       " 'temperament': 'Stubborn, Curious, Playful, Adventurous, Active, Fun-loving',\n",
       " 'origin': 'Germany, France',\n",
       " 'reference_image_id': 'BJa4kxc4X'}"
      ]
     },
     "execution_count": 12,
     "metadata": {},
     "output_type": "execute_result"
    }
   ],
   "source": [
    "# Return response content as Python dictionary.\n",
    "response = requests.get('https://api.thedogapi.com/v1/breeds/1')\n",
    "response.json()"
   ]
  },
  {
   "cell_type": "code",
   "execution_count": 13,
   "id": "e018a281-656a-430a-89d4-bb6a8ab417d0",
   "metadata": {},
   "outputs": [
    {
     "data": {
      "text/plain": [
       "'Affenpinscher'"
      ]
     },
     "execution_count": 13,
     "metadata": {},
     "output_type": "execute_result"
    }
   ],
   "source": [
    "# Return particular value of response content.\n",
    "response = requests.get('https://api.thedogapi.com/v1/breeds/1')\n",
    "response.json()['name']"
   ]
  },
  {
   "cell_type": "code",
   "execution_count": 14,
   "id": "b3afa2ea-6006-4bfb-a6b0-e80643240738",
   "metadata": {
    "tags": []
   },
   "outputs": [],
   "source": [
    "# Save response image content in file.\n",
    "response = requests.get('https://random.imagecdn.app/500/150')\n",
    "file = open('random.jpeg', 'wb')\n",
    "file.write(response.content)\n",
    "file.close()"
   ]
  },
  {
   "cell_type": "code",
   "execution_count": 15,
   "id": "f16247e4-add2-4b63-98a7-f8ae32af197e",
   "metadata": {},
   "outputs": [
    {
     "data": {
      "text/plain": [
       "{'results': [{'gender': 'female',\n",
       "   'name': {'title': 'Ms', 'first': 'Annabelle', 'last': 'Claire'},\n",
       "   'location': {'street': {'number': 3675, 'name': 'Tecumseh Rd'},\n",
       "    'city': 'Lasalle',\n",
       "    'state': 'Ontario',\n",
       "    'country': 'Canada',\n",
       "    'postcode': 'M0P 5A6',\n",
       "    'coordinates': {'latitude': '-72.7116', 'longitude': '-135.9626'},\n",
       "    'timezone': {'offset': '+4:30', 'description': 'Kabul'}},\n",
       "   'email': 'annabelle.claire@example.com',\n",
       "   'login': {'uuid': '3ba5e8a6-4eaf-43c2-af94-3648e891fa05',\n",
       "    'username': 'orangeelephant321',\n",
       "    'password': 'village',\n",
       "    'salt': 'q3N8nVj3',\n",
       "    'md5': 'b1ea6197f6946f358ff5d1f55d0d8cb5',\n",
       "    'sha1': '840556487b388e1090dde83bd2bef3075629c5a6',\n",
       "    'sha256': '6c72f91e80e4911ecb3e7b2702966f98eb404ccb234c55692a8cae8dd7779185'},\n",
       "   'dob': {'date': '1966-06-23T03:55:42.317Z', 'age': 56},\n",
       "   'registered': {'date': '2007-10-19T19:11:16.528Z', 'age': 14},\n",
       "   'phone': 'X55 B96-0312',\n",
       "   'cell': 'L20 P14-8551',\n",
       "   'id': {'name': 'SIN', 'value': '191426279'},\n",
       "   'picture': {'large': 'https://randomuser.me/api/portraits/women/49.jpg',\n",
       "    'medium': 'https://randomuser.me/api/portraits/med/women/49.jpg',\n",
       "    'thumbnail': 'https://randomuser.me/api/portraits/thumb/women/49.jpg'},\n",
       "   'nat': 'CA'}],\n",
       " 'info': {'seed': '41ab20dcd093148b',\n",
       "  'results': 1,\n",
       "  'page': 1,\n",
       "  'version': '1.4'}}"
      ]
     },
     "execution_count": 15,
     "metadata": {},
     "output_type": "execute_result"
    }
   ],
   "source": [
    "# Query parameter to generate random female users.\n",
    "requests.get('http://randomuser.me/api/?gender=female').json()"
   ]
  },
  {
   "cell_type": "code",
   "execution_count": 16,
   "id": "2c785e47-1830-4af5-b2a3-bfba59bd3c68",
   "metadata": {
    "tags": []
   },
   "outputs": [
    {
     "data": {
      "text/plain": [
       "{'results': [{'gender': 'female',\n",
       "   'name': {'title': 'Miss', 'first': 'Tara', 'last': 'Krapp'},\n",
       "   'location': {'street': {'number': 6849, 'name': 'Mozartstraße'},\n",
       "    'city': 'Usingen',\n",
       "    'state': 'Mecklenburg-Vorpommern',\n",
       "    'country': 'Germany',\n",
       "    'postcode': 96211,\n",
       "    'coordinates': {'latitude': '-88.0799', 'longitude': '149.6356'},\n",
       "    'timezone': {'offset': '-10:00', 'description': 'Hawaii'}},\n",
       "   'email': 'tara.krapp@example.com',\n",
       "   'login': {'uuid': '701aae7f-df7f-49c5-a745-55b2489b25bf',\n",
       "    'username': 'crazygoose394',\n",
       "    'password': 'homer1',\n",
       "    'salt': '27D0LXuh',\n",
       "    'md5': '9981a2ea2c17a67e81fbb1f44db46afe',\n",
       "    'sha1': 'e00ec610c2419337f7963f8cb86b06b1ac42a747',\n",
       "    'sha256': 'e8db746465a8f442b54682fa162250ab8bde2e57e655b2c8d1251c4e4386ddb7'},\n",
       "   'dob': {'date': '1963-12-07T13:26:08.092Z', 'age': 58},\n",
       "   'registered': {'date': '2016-12-30T02:13:39.561Z', 'age': 5},\n",
       "   'phone': '0255-7136983',\n",
       "   'cell': '0175-9812525',\n",
       "   'id': {'name': 'SVNR', 'value': '58 071263 K 593'},\n",
       "   'picture': {'large': 'https://randomuser.me/api/portraits/women/12.jpg',\n",
       "    'medium': 'https://randomuser.me/api/portraits/med/women/12.jpg',\n",
       "    'thumbnail': 'https://randomuser.me/api/portraits/thumb/women/12.jpg'},\n",
       "   'nat': 'DE'}],\n",
       " 'info': {'seed': 'cf28d63a5b67aa34',\n",
       "  'results': 1,\n",
       "  'page': 1,\n",
       "  'version': '1.4'}}"
      ]
     },
     "execution_count": 16,
     "metadata": {},
     "output_type": "execute_result"
    }
   ],
   "source": [
    "# Query parameters to generate random female users from Germany.\n",
    "requests.get('http://randomuser.me/api/?gender=female&nat=de').json()"
   ]
  },
  {
   "cell_type": "code",
   "execution_count": 17,
   "id": "a31ce129-15ff-4e47-af86-7ad4cffd73b3",
   "metadata": {},
   "outputs": [
    {
     "data": {
      "text/plain": [
       "{'results': [{'gender': 'female',\n",
       "   'name': {'title': 'Mrs', 'first': 'Carrie', 'last': 'Cole'},\n",
       "   'location': {'street': {'number': 3210, 'name': 'First Street'},\n",
       "    'city': 'Warrnambool',\n",
       "    'state': 'Western Australia',\n",
       "    'country': 'Australia',\n",
       "    'postcode': 9856,\n",
       "    'coordinates': {'latitude': '-58.2972', 'longitude': '-121.4192'},\n",
       "    'timezone': {'offset': '+6:00', 'description': 'Almaty, Dhaka, Colombo'}},\n",
       "   'email': 'carrie.cole@example.com',\n",
       "   'login': {'uuid': '26c54ff6-bbce-4813-96d9-e7661475aafd',\n",
       "    'username': 'ticklishlion900',\n",
       "    'password': 'godsmack',\n",
       "    'salt': 'RRV4GgoZ',\n",
       "    'md5': '19bd8e388380da07996fe17c634e544f',\n",
       "    'sha1': '0f08c65f27ccb54233e5e0fff8956bf6277716fd',\n",
       "    'sha256': '2a64aa24389b98de0bc6345fd807c9e718e3e58b8772b9c50da74e02f14afbb2'},\n",
       "   'dob': {'date': '1972-06-27T16:57:47.438Z', 'age': 50},\n",
       "   'registered': {'date': '2010-04-18T15:34:32.504Z', 'age': 12},\n",
       "   'phone': '01-3436-6988',\n",
       "   'cell': '0446-310-306',\n",
       "   'id': {'name': 'TFN', 'value': '110271476'},\n",
       "   'picture': {'large': 'https://randomuser.me/api/portraits/women/36.jpg',\n",
       "    'medium': 'https://randomuser.me/api/portraits/med/women/36.jpg',\n",
       "    'thumbnail': 'https://randomuser.me/api/portraits/thumb/women/36.jpg'},\n",
       "   'nat': 'AU'}],\n",
       " 'info': {'seed': 'a6faa17af31f9a8e',\n",
       "  'results': 1,\n",
       "  'page': 1,\n",
       "  'version': '1.4'}}"
      ]
     },
     "execution_count": 17,
     "metadata": {},
     "output_type": "execute_result"
    }
   ],
   "source": [
    "# Use 'params' attribute to send a dictionary of query parameters - example 1.\n",
    "query_params = {'gender': 'female', 'nat': 'au'}\n",
    "requests.get('https://randomuser.me/api/', params=query_params).json()"
   ]
  },
  {
   "cell_type": "code",
   "execution_count": 18,
   "id": "3cf5dd5f-d4b1-4b64-9d7e-d2fff24b68ee",
   "metadata": {},
   "outputs": [
    {
     "data": {
      "text/plain": [
       "[{'weight': {'imperial': '45 - 100', 'metric': '20 - 45'},\n",
       "  'height': {'imperial': '14 - 24', 'metric': '36 - 61'},\n",
       "  'id': 148,\n",
       "  'name': 'Labradoodle',\n",
       "  'breed_group': 'Mixed',\n",
       "  'life_span': '10 - 15 years'}]"
      ]
     },
     "execution_count": 18,
     "metadata": {},
     "output_type": "execute_result"
    }
   ],
   "source": [
    "# Use 'params' attribute to send a dictionary of query parameters - example 2.\n",
    "query_params = {'q': 'labradoodle'}\n",
    "endpoint = 'https://api.thedogapi.com/v1/breeds/search' # Define endpoint as a variable to make reuse easier.\n",
    "requests.get(endpoint, params=query_params).json()"
   ]
  },
  {
   "cell_type": "code",
   "execution_count": 20,
   "id": "b3464996-d57d-446d-b6d7-3f45fbdb319d",
   "metadata": {},
   "outputs": [
    {
     "data": {
      "text/plain": [
       "<Response [200]>"
      ]
     },
     "execution_count": 20,
     "metadata": {},
     "output_type": "execute_result"
    }
   ],
   "source": [
    "# API keys\n",
    "endpoint = 'https://api.nasa.gov/mars-photos/api/v1/rovers/curiosity/photos'\n",
    "api_key = 'DEMO_KEY'\n",
    "query_params = {'api_key': api_key, 'earth_date': '2020-07-01'}\n",
    "response = requests.get(endpoint, params=query_params)\n",
    "response"
   ]
  }
 ],
 "metadata": {
  "kernelspec": {
   "display_name": "Python 3",
   "language": "python",
   "name": "python3"
  },
  "language_info": {
   "codemirror_mode": {
    "name": "ipython",
    "version": 3
   },
   "file_extension": ".py",
   "mimetype": "text/x-python",
   "name": "python",
   "nbconvert_exporter": "python",
   "pygments_lexer": "ipython3",
   "version": "3.8.8"
  }
 },
 "nbformat": 4,
 "nbformat_minor": 5
}

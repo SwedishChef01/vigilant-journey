{
 "cells": [
  {
   "cell_type": "code",
   "execution_count": 1,
   "id": "2e0deb45-3b01-40bb-93a8-8c651af61864",
   "metadata": {},
   "outputs": [],
   "source": [
    "import requests"
   ]
  },
  {
   "cell_type": "code",
   "execution_count": 2,
   "id": "390edb92-0dc7-44fb-9b07-4d6575d1f1ad",
   "metadata": {},
   "outputs": [],
   "source": [
    "# Login\n",
    "url = 'https://demo-api.ig.com/gateway/deal/session'\n",
    "\n",
    "headers={\n",
    "    'Content-Type': 'application/json; charset=UTF-8',\n",
    "    'Accept': 'application/json; charset=UTF-8',\n",
    "    'VERSION': '2',\n",
    "    'X-IG-API-KEY': 'c6625d5036d679e7ca85095e12ceadd55b7b04a8',\n",
    "}\n",
    "\n",
    "login={\n",
    "    'identifier': 'gpjohno1',\n",
    "    'password': 'Fly1ngF1sh!'\n",
    "}\n",
    "\n",
    "r = requests.post(url, headers=headers, json=login)"
   ]
  },
  {
   "cell_type": "code",
   "execution_count": 3,
   "id": "9043e1e0-7c20-4623-9025-da584af64062",
   "metadata": {
    "tags": []
   },
   "outputs": [],
   "source": [
    "# Security tokens.\n",
    "cst = r.headers['CST']\n",
    "x_security_token = r.headers['X-SECURITY-TOKEN']"
   ]
  },
  {
   "cell_type": "code",
   "execution_count": 4,
   "id": "3478e096-4c49-4d11-95e6-afc1a345ffdc",
   "metadata": {},
   "outputs": [
    {
     "data": {
      "text/plain": [
       "{'nodes': [{'id': '97601', 'name': 'Indices'},\n",
       "  {'id': '264176', 'name': 'Indices (mini)'},\n",
       "  {'id': '195235', 'name': 'Forex'},\n",
       "  {'id': '264139', 'name': 'Forex (mini)'},\n",
       "  {'id': '668394', 'name': 'Cryptocurrency'},\n",
       "  {'id': '101515', 'name': 'Commodities Metals Energies'},\n",
       "  {'id': '264151', 'name': 'Commodities Metals Energies (mini)'},\n",
       "  {'id': '108092', 'name': 'Bonds and Moneymarket'},\n",
       "  {'id': '264251', 'name': 'Bonds and Moneymarket (mini)'},\n",
       "  {'id': '184730', 'name': 'ETFs, ETCs & Trackers'},\n",
       "  {'id': '172904', 'name': 'Shares - LSE (UK)'},\n",
       "  {'id': '176239', 'name': 'Shares - IOB (UK)'},\n",
       "  {'id': '298158', 'name': 'Shares - US (All Sessions)'},\n",
       "  {'id': '176472', 'name': 'Shares - NASDAQ (US)'},\n",
       "  {'id': '177223', 'name': 'Shares - NYSE (US)'},\n",
       "  {'id': '170104', 'name': 'Shares - ATHEX (Greece)'},\n",
       "  {'id': '170023', 'name': 'Shares - Euronext (Netherlands)'},\n",
       "  {'id': '169329', 'name': 'Shares - Euronext (Belgium)'},\n",
       "  {'id': '169591', 'name': 'Shares - Euronext (Portugal)'},\n",
       "  {'id': '169656', 'name': 'Shares - Euronext (France)'},\n",
       "  {'id': '170232', 'name': 'Shares - HKEX (Hong Kong)'},\n",
       "  {'id': '170471', 'name': 'Shares - JSE (South Africa)'},\n",
       "  {'id': '170630', 'name': 'Shares - MIB (Italy)'},\n",
       "  {'id': '127491502', 'name': 'Shares - NZX (New Zealand)'},\n",
       "  {'id': '169371', 'name': 'Shares - OMX (Denmark)'},\n",
       "  {'id': '169413', 'name': 'Shares - OMX (Finland)'},\n",
       "  {'id': '169465', 'name': 'Shares - OMX (Sweden)'},\n",
       "  {'id': '171438', 'name': 'Shares - XETRA (Germany)'},\n",
       "  {'id': '239042', 'name': 'Options (Equities) US'},\n",
       "  {'id': '77976799', 'name': 'Options (Australia 200)'},\n",
       "  {'id': '245938', 'name': 'Options (Eu Stocks 50)'},\n",
       "  {'id': '188760', 'name': 'Options (France 40)'},\n",
       "  {'id': '122250', 'name': 'Options (FTSE)'},\n",
       "  {'id': '97612', 'name': 'Options (Germany)'},\n",
       "  {'id': '92462573', 'name': 'Options (HS 50)'},\n",
       "  {'id': '111915265', 'name': 'Options (Japan 225)'},\n",
       "  {'id': '236490', 'name': 'Options (Netherlands 25)'},\n",
       "  {'id': '188763', 'name': 'Options (Spain 35)'},\n",
       "  {'id': '319963', 'name': 'Options (Sweden 30)'},\n",
       "  {'id': '157168018', 'name': 'Options (Taiwan Index)'},\n",
       "  {'id': '267039', 'name': 'Options (US 500)'},\n",
       "  {'id': '89291253', 'name': 'Options (US Tech 100)'},\n",
       "  {'id': '122505', 'name': 'Options (Wall St)'},\n",
       "  {'id': '56719751', 'name': 'Options (Volatility Index)'},\n",
       "  {'id': '255072', 'name': 'Options on FX Majors'},\n",
       "  {'id': '195913', 'name': 'Options on Metals, Energies'},\n",
       "  {'id': '5371876', 'name': 'Weekend Indices'}],\n",
       " 'markets': None}"
      ]
     },
     "execution_count": 4,
     "metadata": {},
     "output_type": "execute_result"
    }
   ],
   "source": [
    "# Market navigation by node.\n",
    "url = 'https://demo-api.ig.com/gateway/deal/marketnavigation/'\n",
    "\n",
    "headers={\n",
    "    'Content-Type': 'application/json; charset=UTF-8',\n",
    "    'Accept': 'application/json; charset=UTF-8',\n",
    "    'X-IG-API-KEY': 'c6625d5036d679e7ca85095e12ceadd55b7b04a8',\n",
    "    'CST': cst,\n",
    "    'X-SECURITY-TOKEN': x_security_token,\n",
    "}\n",
    "\n",
    "requests.get(url, headers=headers).json()"
   ]
  },
  {
   "cell_type": "code",
   "execution_count": 5,
   "id": "ad1f6585-5362-4e23-89d8-377c3bf4b972",
   "metadata": {},
   "outputs": [
    {
     "data": {
      "text/plain": [
       "{'markets': [{'epic': 'KA.D.AMLLN.CASH.IP',\n",
       "   'instrumentName': 'Aston Martin Lagonda Global Holdings PLC',\n",
       "   'instrumentType': 'SHARES',\n",
       "   'expiry': '-',\n",
       "   'high': 425.7,\n",
       "   'low': 396.1,\n",
       "   'percentageChange': 1.34,\n",
       "   'netChange': 5.4,\n",
       "   'updateTime': '12:00:26',\n",
       "   'updateTimeUTC': '11:00:26',\n",
       "   'bid': None,\n",
       "   'offer': None,\n",
       "   'delayTime': 0,\n",
       "   'streamingPricesAvailable': False,\n",
       "   'marketStatus': 'TRADEABLE',\n",
       "   'scalingFactor': 1}]}"
      ]
     },
     "execution_count": 5,
     "metadata": {},
     "output_type": "execute_result"
    }
   ],
   "source": [
    "# Market search.\n",
    "url = 'https://demo-api.ig.com/gateway/deal/markets?searchTerm=\"aston martin\"'\n",
    "\n",
    "headers={\n",
    "    'Content-Type': 'application/json; charset=UTF-8',\n",
    "    'Accept': 'application/json; charset=UTF-8',\n",
    "    'X-IG-API-KEY': 'c6625d5036d679e7ca85095e12ceadd55b7b04a8',\n",
    "    'CST': cst,\n",
    "    'X-SECURITY-TOKEN': x_security_token,\n",
    "}\n",
    "\n",
    "requests.get(url, headers=headers).json()"
   ]
  },
  {
   "cell_type": "code",
   "execution_count": 7,
   "id": "66f7ae53-cca7-4a22-869d-2c6c0cd4f68d",
   "metadata": {},
   "outputs": [
    {
     "data": {
      "text/plain": [
       "{'instrument': {'epic': 'KA.D.AMLLN.CASH.IP',\n",
       "  'expiry': '-',\n",
       "  'name': 'Aston Martin Lagonda Global Holdings PLC',\n",
       "  'forceOpenAllowed': True,\n",
       "  'stopsLimitsAllowed': True,\n",
       "  'lotSize': 0.01,\n",
       "  'unit': 'SHARES',\n",
       "  'type': 'SHARES',\n",
       "  'controlledRiskAllowed': True,\n",
       "  'streamingPricesAvailable': False,\n",
       "  'marketId': 'AML-UK',\n",
       "  'currencies': [{'code': '#.',\n",
       "    'name': 'GBP',\n",
       "    'symbol': '£',\n",
       "    'baseExchangeRate': 1.0,\n",
       "    'exchangeRate': 1.0,\n",
       "    'isDefault': True}],\n",
       "  'marginDepositBands': [{'min': 0, 'max': 7400, 'margin': 20},\n",
       "   {'min': 7400, 'max': 37000, 'margin': 20},\n",
       "   {'min': 37000, 'max': 140600, 'margin': 45},\n",
       "   {'min': 140600, 'max': None, 'margin': 75}],\n",
       "  'margin': 20.0,\n",
       "  'slippageFactor': {'unit': 'pct', 'value': 100.0},\n",
       "  'openingHours': {'marketTimes': [{'openTime': '08:00',\n",
       "     'closeTime': '16:30'}]},\n",
       "  'expiryDetails': None,\n",
       "  'rolloverDetails': None,\n",
       "  'newsCode': 'AML.L',\n",
       "  'chartCode': 'ASTM',\n",
       "  'country': 'GB',\n",
       "  'valueOfOnePip': None,\n",
       "  'onePipMeans': None,\n",
       "  'contractSize': None,\n",
       "  'specialInfo': ['DEFAULT KNOCK OUT LEVEL DISTANCE',\n",
       "   'MAX KNOCK OUT LEVEL DISTANCE']},\n",
       " 'dealingRules': {'minStepDistance': {'unit': 'POINTS', 'value': 1.0},\n",
       "  'minDealSize': {'unit': 'POINTS', 'value': 1.0},\n",
       "  'minControlledRiskStopDistance': {'unit': 'PERCENTAGE', 'value': 5.0},\n",
       "  'minNormalStopOrLimitDistance': {'unit': 'PERCENTAGE', 'value': 2.0},\n",
       "  'maxStopOrLimitDistance': {'unit': 'PERCENTAGE', 'value': 75.0},\n",
       "  'controlledRiskSpacing': {'unit': 'POINTS', 'value': 20.0},\n",
       "  'marketOrderPreference': 'AVAILABLE_DEFAULT_OFF'},\n",
       " 'snapshot': {'marketStatus': 'TRADEABLE',\n",
       "  'netChange': 6,\n",
       "  'percentageChange': 1.49,\n",
       "  'updateTime': '12:06:00',\n",
       "  'delayTime': 0,\n",
       "  'bid': None,\n",
       "  'offer': None,\n",
       "  'high': 425.7,\n",
       "  'low': 396.1,\n",
       "  'binaryOdds': None,\n",
       "  'decimalPlacesFactor': 2,\n",
       "  'scalingFactor': 1,\n",
       "  'controlledRiskExtraSpread': 0}}"
      ]
     },
     "execution_count": 7,
     "metadata": {},
     "output_type": "execute_result"
    }
   ],
   "source": [
    "# Market EPIC.\n",
    "url = 'https://demo-api.ig.com/gateway/deal/markets/KA.D.AMLLN.CASH.IP'\n",
    "\n",
    "headers={\n",
    "    'Content-Type': 'application/json; charset=UTF-8',\n",
    "    'Accept': 'application/json; charset=UTF-8',\n",
    "    'X-IG-API-KEY': 'c6625d5036d679e7ca85095e12ceadd55b7b04a8',\n",
    "    'CST': cst,\n",
    "    'X-SECURITY-TOKEN': x_security_token,\n",
    "}\n",
    "\n",
    "requests.get(url, headers=headers).json()"
   ]
  }
 ],
 "metadata": {
  "kernelspec": {
   "display_name": "Python 3",
   "language": "python",
   "name": "python3"
  },
  "language_info": {
   "codemirror_mode": {
    "name": "ipython",
    "version": 3
   },
   "file_extension": ".py",
   "mimetype": "text/x-python",
   "name": "python",
   "nbconvert_exporter": "python",
   "pygments_lexer": "ipython3",
   "version": "3.8.8"
  }
 },
 "nbformat": 4,
 "nbformat_minor": 5
}

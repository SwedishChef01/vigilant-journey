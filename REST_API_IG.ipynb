{
 "cells": [
  {
   "cell_type": "code",
   "execution_count": 1,
   "id": "2e0deb45-3b01-40bb-93a8-8c651af61864",
   "metadata": {},
   "outputs": [],
   "source": [
    "import requests"
   ]
  },
  {
   "cell_type": "code",
   "execution_count": 2,
   "id": "390edb92-0dc7-44fb-9b07-4d6575d1f1ad",
   "metadata": {},
   "outputs": [],
   "source": [
    "# Login\n",
    "url = 'https://demo-api.ig.com/gateway/deal/session'\n",
    "\n",
    "headers={\n",
    "    'Content-Type': 'application/json; charset=UTF-8',\n",
    "    'Accept': 'application/json; charset=UTF-8',\n",
    "    'VERSION': '2',\n",
    "    'X-IG-API-KEY': 'c6625d5036d679e7ca85095e12ceadd55b7b04a8',\n",
    "}\n",
    "\n",
    "login={\n",
    "    'identifier': 'gpjohno1',\n",
    "    'password': 'Fly1ngF1sh!'\n",
    "}\n",
    "\n",
    "r = requests.post(url, headers=headers, json=login)"
   ]
  },
  {
   "cell_type": "code",
   "execution_count": 3,
   "id": "9043e1e0-7c20-4623-9025-da584af64062",
   "metadata": {
    "tags": []
   },
   "outputs": [],
   "source": [
    "# Security tokens.\n",
    "cst = r.headers['CST']\n",
    "x_security_token = r.headers['X-SECURITY-TOKEN']"
   ]
  },
  {
   "cell_type": "code",
   "execution_count": 4,
   "id": "3478e096-4c49-4d11-95e6-afc1a345ffdc",
   "metadata": {},
   "outputs": [
    {
     "data": {
      "text/plain": [
       "{'nodes': None,\n",
       " 'markets': [{'delayTime': 0,\n",
       "   'epic': 'KA.D.AMLLN.CASH.IP',\n",
       "   'netChange': -30.5,\n",
       "   'lotSize': 0,\n",
       "   'expiry': '-',\n",
       "   'instrumentType': 'SHARES',\n",
       "   'instrumentName': 'Aston Martin Lagonda Global Holdings PLC',\n",
       "   'high': 438.3,\n",
       "   'low': 390.0,\n",
       "   'percentageChange': -7.08,\n",
       "   'updateTime': '55762000',\n",
       "   'updateTimeUTC': '15:29:22',\n",
       "   'bid': None,\n",
       "   'offer': None,\n",
       "   'otcTradeable': True,\n",
       "   'streamingPricesAvailable': False,\n",
       "   'marketStatus': 'EDITS_ONLY',\n",
       "   'scalingFactor': 1}]}"
      ]
     },
     "execution_count": 4,
     "metadata": {},
     "output_type": "execute_result"
    }
   ],
   "source": [
    "# Market navigation by node.\n",
    "url = 'https://demo-api.ig.com/gateway/deal/marketnavigation/90965296'\n",
    "\n",
    "headers={\n",
    "    'Content-Type': 'application/json; charset=UTF-8',\n",
    "    'Accept': 'application/json; charset=UTF-8',\n",
    "    'X-IG-API-KEY': 'c6625d5036d679e7ca85095e12ceadd55b7b04a8',\n",
    "    'CST': cst,\n",
    "    'X-SECURITY-TOKEN': x_security_token,\n",
    "}\n",
    "\n",
    "requests.get(url, headers=headers).json()"
   ]
  },
  {
   "cell_type": "code",
   "execution_count": 5,
   "id": "ad1f6585-5362-4e23-89d8-377c3bf4b972",
   "metadata": {},
   "outputs": [
    {
     "data": {
      "text/plain": [
       "{'markets': [{'epic': 'KA.D.AMLLN.CASH.IP',\n",
       "   'instrumentName': 'Aston Martin Lagonda Global Holdings PLC',\n",
       "   'instrumentType': 'SHARES',\n",
       "   'expiry': '-',\n",
       "   'high': 438.3,\n",
       "   'low': 390.0,\n",
       "   'percentageChange': -7.08,\n",
       "   'netChange': -30.5,\n",
       "   'updateTime': '16:29:22',\n",
       "   'updateTimeUTC': '15:29:22',\n",
       "   'bid': None,\n",
       "   'offer': None,\n",
       "   'delayTime': 0,\n",
       "   'streamingPricesAvailable': False,\n",
       "   'marketStatus': 'EDITS_ONLY',\n",
       "   'scalingFactor': 1}]}"
      ]
     },
     "execution_count": 5,
     "metadata": {},
     "output_type": "execute_result"
    }
   ],
   "source": [
    "# Market search.\n",
    "url = 'https://demo-api.ig.com/gateway/deal/markets?searchTerm=\"Aston Martin\"'\n",
    "\n",
    "headers={\n",
    "    'Content-Type': 'application/json; charset=UTF-8',\n",
    "    'Accept': 'application/json; charset=UTF-8',\n",
    "    'X-IG-API-KEY': 'c6625d5036d679e7ca85095e12ceadd55b7b04a8',\n",
    "    'CST': cst,\n",
    "    'X-SECURITY-TOKEN': x_security_token,\n",
    "}\n",
    "\n",
    "requests.get(url, headers=headers).json()"
   ]
  },
  {
   "cell_type": "code",
   "execution_count": 6,
   "id": "66f7ae53-cca7-4a22-869d-2c6c0cd4f68d",
   "metadata": {},
   "outputs": [],
   "source": [
    "# Market EPIC."
   ]
  }
 ],
 "metadata": {
  "kernelspec": {
   "display_name": "Python 3",
   "language": "python",
   "name": "python3"
  },
  "language_info": {
   "codemirror_mode": {
    "name": "ipython",
    "version": 3
   },
   "file_extension": ".py",
   "mimetype": "text/x-python",
   "name": "python",
   "nbconvert_exporter": "python",
   "pygments_lexer": "ipython3",
   "version": "3.8.8"
  }
 },
 "nbformat": 4,
 "nbformat_minor": 5
}

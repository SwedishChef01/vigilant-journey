{
 "cells": [
  {
   "cell_type": "code",
   "execution_count": 1,
   "id": "18df2fee-c9f2-43f4-9bf4-c65fe649b069",
   "metadata": {
    "tags": []
   },
   "outputs": [],
   "source": [
    "# SIPP Portfolio Performance.\n",
    "import numpy as np\n",
    "import pandas as pd\n",
    "import plotly.graph_objects as go"
   ]
  },
  {
   "cell_type": "code",
   "execution_count": 2,
   "id": "fcd1ff9c-01aa-4a6f-9f03-182809afb548",
   "metadata": {
    "tags": []
   },
   "outputs": [],
   "source": [
    "# Parameters.\n",
    "portfolio_name = 'SIPP-G'"
   ]
  },
  {
   "cell_type": "code",
   "execution_count": 3,
   "id": "d0c63ebc-fb0b-45ec-bb8c-5e89a473a1b1",
   "metadata": {
    "tags": []
   },
   "outputs": [
    {
     "data": {
      "text/html": [
       "<div>\n",
       "<style scoped>\n",
       "    .dataframe tbody tr th:only-of-type {\n",
       "        vertical-align: middle;\n",
       "    }\n",
       "\n",
       "    .dataframe tbody tr th {\n",
       "        vertical-align: top;\n",
       "    }\n",
       "\n",
       "    .dataframe thead th {\n",
       "        text-align: right;\n",
       "    }\n",
       "</style>\n",
       "<table border=\"1\" class=\"dataframe\">\n",
       "  <thead>\n",
       "    <tr style=\"text-align: right;\">\n",
       "      <th></th>\n",
       "      <th>name</th>\n",
       "      <th>tidm</th>\n",
       "      <th>profit</th>\n",
       "    </tr>\n",
       "    <tr>\n",
       "      <th>date</th>\n",
       "      <th></th>\n",
       "      <th></th>\n",
       "      <th></th>\n",
       "    </tr>\n",
       "  </thead>\n",
       "  <tbody>\n",
       "    <tr>\n",
       "      <th>2018-08-14</th>\n",
       "      <td>Position Closed</td>\n",
       "      <td>NXR</td>\n",
       "      <td>221.25</td>\n",
       "    </tr>\n",
       "    <tr>\n",
       "      <th>2018-12-11</th>\n",
       "      <td>Position Closed</td>\n",
       "      <td>GFRD</td>\n",
       "      <td>-406.77</td>\n",
       "    </tr>\n",
       "    <tr>\n",
       "      <th>2018-12-20</th>\n",
       "      <td>Position Closed</td>\n",
       "      <td>CMS#1</td>\n",
       "      <td>510.83</td>\n",
       "    </tr>\n",
       "    <tr>\n",
       "      <th>2019-04-09</th>\n",
       "      <td>Position Closed</td>\n",
       "      <td>PFC</td>\n",
       "      <td>0.13</td>\n",
       "    </tr>\n",
       "    <tr>\n",
       "      <th>2019-07-09</th>\n",
       "      <td>Position Closed</td>\n",
       "      <td>IAG</td>\n",
       "      <td>-293.78</td>\n",
       "    </tr>\n",
       "    <tr>\n",
       "      <th>...</th>\n",
       "      <td>...</td>\n",
       "      <td>...</td>\n",
       "      <td>...</td>\n",
       "    </tr>\n",
       "    <tr>\n",
       "      <th>2022-04-01</th>\n",
       "      <td>Position Closed</td>\n",
       "      <td>RNWH</td>\n",
       "      <td>9.87</td>\n",
       "    </tr>\n",
       "    <tr>\n",
       "      <th>2022-04-19</th>\n",
       "      <td>Position Closed</td>\n",
       "      <td>BRCK</td>\n",
       "      <td>243.59</td>\n",
       "    </tr>\n",
       "    <tr>\n",
       "      <th>2022-04-19</th>\n",
       "      <td>Position Closed</td>\n",
       "      <td>WOSG</td>\n",
       "      <td>2356.99</td>\n",
       "    </tr>\n",
       "    <tr>\n",
       "      <th>2022-05-23</th>\n",
       "      <td>Position Closed</td>\n",
       "      <td>WOOD</td>\n",
       "      <td>-229.20</td>\n",
       "    </tr>\n",
       "    <tr>\n",
       "      <th>2022-06-20</th>\n",
       "      <td>Position Closed</td>\n",
       "      <td>CHG</td>\n",
       "      <td>-1255.85</td>\n",
       "    </tr>\n",
       "  </tbody>\n",
       "</table>\n",
       "<p>75 rows × 3 columns</p>\n",
       "</div>"
      ],
      "text/plain": [
       "                       name   tidm   profit\n",
       "date                                       \n",
       "2018-08-14  Position Closed    NXR   221.25\n",
       "2018-12-11  Position Closed   GFRD  -406.77\n",
       "2018-12-20  Position Closed  CMS#1   510.83\n",
       "2019-04-09  Position Closed    PFC     0.13\n",
       "2019-07-09  Position Closed    IAG  -293.78\n",
       "...                     ...    ...      ...\n",
       "2022-04-01  Position Closed   RNWH     9.87\n",
       "2022-04-19  Position Closed   BRCK   243.59\n",
       "2022-04-19  Position Closed   WOSG  2356.99\n",
       "2022-05-23  Position Closed   WOOD  -229.20\n",
       "2022-06-20  Position Closed    CHG -1255.85\n",
       "\n",
       "[75 rows x 3 columns]"
      ]
     },
     "execution_count": 3,
     "metadata": {},
     "output_type": "execute_result"
    }
   ],
   "source": [
    "# Import portfolio equity holdings.\n",
    "dh = pd.read_csv(\n",
    "    f'{portfolio_name}_holdings.csv',\n",
    "    header=0,\n",
    "    names=[\n",
    "        'date',\n",
    "        'name',\n",
    "        'tidm',\n",
    "        'shares',\n",
    "        'price',\n",
    "        'cost',\n",
    "        'charges',\n",
    "        'sduty',\n",
    "        'value',\n",
    "        'unrealised',\n",
    "        'profit',\n",
    "        'pct_return',\n",
    "        'pct_annual',\n",
    "    ],\n",
    "    index_col=0,\n",
    "    usecols=['date', 'name', 'tidm', 'profit'],\n",
    "    engine='python',\n",
    "    skipfooter=1,\n",
    "    parse_dates=True,\n",
    "    dayfirst=True,\n",
    ")\n",
    "\n",
    "# Filter portfolio equity holdings for closed positions.\n",
    "dh = dh[dh.name == 'Position Closed']\n",
    "dh = dh.sort_index()\n",
    "dh"
   ]
  },
  {
   "cell_type": "code",
   "execution_count": 4,
   "id": "272d2951-7375-4b81-a6fc-6ad57c52b3f4",
   "metadata": {},
   "outputs": [
    {
     "data": {
      "text/html": [
       "<div>\n",
       "<style scoped>\n",
       "    .dataframe tbody tr th:only-of-type {\n",
       "        vertical-align: middle;\n",
       "    }\n",
       "\n",
       "    .dataframe tbody tr th {\n",
       "        vertical-align: top;\n",
       "    }\n",
       "\n",
       "    .dataframe thead th {\n",
       "        text-align: right;\n",
       "    }\n",
       "</style>\n",
       "<table border=\"1\" class=\"dataframe\">\n",
       "  <thead>\n",
       "    <tr style=\"text-align: right;\">\n",
       "      <th></th>\n",
       "      <th>type</th>\n",
       "      <th>cash</th>\n",
       "    </tr>\n",
       "    <tr>\n",
       "      <th>date</th>\n",
       "      <th></th>\n",
       "      <th></th>\n",
       "    </tr>\n",
       "  </thead>\n",
       "  <tbody>\n",
       "    <tr>\n",
       "      <th>2017-05-24</th>\n",
       "      <td>Credit</td>\n",
       "      <td>1079.16</td>\n",
       "    </tr>\n",
       "    <tr>\n",
       "      <th>2017-06-09</th>\n",
       "      <td>Interest</td>\n",
       "      <td>0.02</td>\n",
       "    </tr>\n",
       "    <tr>\n",
       "      <th>2017-07-04</th>\n",
       "      <td>Charges</td>\n",
       "      <td>0.38</td>\n",
       "    </tr>\n",
       "    <tr>\n",
       "      <th>2017-07-05</th>\n",
       "      <td>Credit</td>\n",
       "      <td>550.00</td>\n",
       "    </tr>\n",
       "    <tr>\n",
       "      <th>2017-07-09</th>\n",
       "      <td>Interest</td>\n",
       "      <td>0.01</td>\n",
       "    </tr>\n",
       "    <tr>\n",
       "      <th>...</th>\n",
       "      <td>...</td>\n",
       "      <td>...</td>\n",
       "    </tr>\n",
       "    <tr>\n",
       "      <th>2022-05-09</th>\n",
       "      <td>Credit</td>\n",
       "      <td>2.91</td>\n",
       "    </tr>\n",
       "    <tr>\n",
       "      <th>2022-05-10</th>\n",
       "      <td>Credit</td>\n",
       "      <td>892.32</td>\n",
       "    </tr>\n",
       "    <tr>\n",
       "      <th>2022-06-07</th>\n",
       "      <td>Charges</td>\n",
       "      <td>11.13</td>\n",
       "    </tr>\n",
       "    <tr>\n",
       "      <th>2022-06-09</th>\n",
       "      <td>Credit</td>\n",
       "      <td>1.80</td>\n",
       "    </tr>\n",
       "    <tr>\n",
       "      <th>2022-06-15</th>\n",
       "      <td>Credit</td>\n",
       "      <td>892.32</td>\n",
       "    </tr>\n",
       "  </tbody>\n",
       "</table>\n",
       "<p>169 rows × 2 columns</p>\n",
       "</div>"
      ],
      "text/plain": [
       "                type     cash\n",
       "date                         \n",
       "2017-05-24    Credit  1079.16\n",
       "2017-06-09  Interest     0.02\n",
       "2017-07-04   Charges     0.38\n",
       "2017-07-05    Credit   550.00\n",
       "2017-07-09  Interest     0.01\n",
       "...              ...      ...\n",
       "2022-05-09    Credit     2.91\n",
       "2022-05-10    Credit   892.32\n",
       "2022-06-07   Charges    11.13\n",
       "2022-06-09    Credit     1.80\n",
       "2022-06-15    Credit   892.32\n",
       "\n",
       "[169 rows x 2 columns]"
      ]
     },
     "execution_count": 4,
     "metadata": {},
     "output_type": "execute_result"
    }
   ],
   "source": [
    "# Import portfolio cash transactions.\n",
    "dt = pd.read_csv(\n",
    "    f'{portfolio_name}_transactions.csv',\n",
    "    header=0,\n",
    "    names=[\n",
    "        'date',\n",
    "        'time',\n",
    "        'ionic_id',\n",
    "        'ticker',\n",
    "        'type',\n",
    "        'shares',\n",
    "        'price',\n",
    "        'broker',\n",
    "        'stamp',\n",
    "        'cash',\n",
    "        'non_cash',\n",
    "        'note'\n",
    "    ], \n",
    "    index_col=0,\n",
    "    usecols=['date', 'type', 'cash'],\n",
    "    parse_dates=True,\n",
    "    dayfirst=True,\n",
    ")\n",
    "\n",
    "# Filter portfolio cash transactions for credits, interest, & charges.\n",
    "dt = dt[(dt.type == 'Credit') | (dt.type == 'Interest') | (dt.type == 'Charges')]\n",
    "dt = dt.sort_index()\n",
    "dt"
   ]
  },
  {
   "cell_type": "code",
   "execution_count": 5,
   "id": "905b8c2d-e191-4a1a-ba8c-a992f75ef3b7",
   "metadata": {},
   "outputs": [
    {
     "data": {
      "text/plain": [
       "DatetimeIndex(['2017-05-24', '2017-05-25', '2017-05-26', '2017-05-27',\n",
       "               '2017-05-28', '2017-05-29', '2017-05-30', '2017-05-31',\n",
       "               '2017-06-01', '2017-06-02',\n",
       "               ...\n",
       "               '2022-06-11', '2022-06-12', '2022-06-13', '2022-06-14',\n",
       "               '2022-06-15', '2022-06-16', '2022-06-17', '2022-06-18',\n",
       "               '2022-06-19', '2022-06-20'],\n",
       "              dtype='datetime64[ns]', length=1854, freq='D')"
      ]
     },
     "execution_count": 5,
     "metadata": {},
     "output_type": "execute_result"
    }
   ],
   "source": [
    "# Total portfolio value (closed equity holdings + cash transactions)\n",
    "start_date = min(dh.index[0], dt.index[0])\n",
    "end_date = max(dh.index[-1], dt.index[-1])\n",
    "date_range = pd.date_range(start=start_date, end=end_date)\n",
    "date_range"
   ]
  },
  {
   "cell_type": "code",
   "execution_count": 6,
   "id": "7b19b22d-af55-481a-b633-0356a3ad3437",
   "metadata": {},
   "outputs": [
    {
     "data": {
      "text/plain": [
       "date\n",
       "2017-05-24    1079.16\n",
       "2017-06-09       0.02\n",
       "2017-07-04       0.38\n",
       "2017-07-05     550.00\n",
       "2017-07-09       0.01\n",
       "               ...   \n",
       "2022-05-23    -229.20\n",
       "2022-06-07      11.13\n",
       "2022-06-09       1.80\n",
       "2022-06-15     892.32\n",
       "2022-06-20   -1255.85\n",
       "Length: 244, dtype: float64"
      ]
     },
     "execution_count": 6,
     "metadata": {},
     "output_type": "execute_result"
    }
   ],
   "source": [
    "portfolio = pd.concat([dh.profit, dt.cash])\n",
    "portfolio = portfolio.sort_index()\n",
    "portfolio"
   ]
  },
  {
   "cell_type": "code",
   "execution_count": 7,
   "id": "87564d91-1fac-413c-8c95-2bc9494bab98",
   "metadata": {},
   "outputs": [
    {
     "data": {
      "text/plain": [
       "date\n",
       "2017-05-24    1079.16\n",
       "2017-06-09       0.02\n",
       "2017-07-04       0.38\n",
       "2017-07-05     550.00\n",
       "2017-07-09       0.01\n",
       "               ...   \n",
       "2022-05-23    -229.20\n",
       "2022-06-07      11.13\n",
       "2022-06-09       1.80\n",
       "2022-06-15     892.32\n",
       "2022-06-20   -1255.85\n",
       "Length: 191, dtype: float64"
      ]
     },
     "execution_count": 7,
     "metadata": {},
     "output_type": "execute_result"
    }
   ],
   "source": [
    "portfolio = portfolio.groupby(level=0).sum()\n",
    "portfolio"
   ]
  },
  {
   "cell_type": "code",
   "execution_count": 8,
   "id": "a009fd4f-3038-49cf-be74-14bdf543ea73",
   "metadata": {},
   "outputs": [
    {
     "data": {
      "text/plain": [
       "2017-05-24    1079.16\n",
       "2017-05-25    1079.16\n",
       "2017-05-26    1079.16\n",
       "2017-05-27    1079.16\n",
       "2017-05-28    1079.16\n",
       "               ...   \n",
       "2022-06-16     892.32\n",
       "2022-06-17     892.32\n",
       "2022-06-18     892.32\n",
       "2022-06-19     892.32\n",
       "2022-06-20   -1255.85\n",
       "Freq: D, Length: 1854, dtype: float64"
      ]
     },
     "execution_count": 8,
     "metadata": {},
     "output_type": "execute_result"
    }
   ],
   "source": [
    "portfolio = portfolio.reindex(date_range, method='ffill') # Do cumsum before ffill \n",
    "portfolio"
   ]
  },
  {
   "cell_type": "code",
   "execution_count": 9,
   "id": "48393b0c-a703-42dc-9303-192c8c36ff26",
   "metadata": {},
   "outputs": [
    {
     "data": {
      "text/plain": [
       "2020-11-01   -1116.20\n",
       "2020-11-02   -1116.20\n",
       "2020-11-03     903.58\n",
       "2020-11-04     903.58\n",
       "2020-11-05     903.58\n",
       "2020-11-06     903.58\n",
       "2020-11-07     903.58\n",
       "2020-11-08     903.58\n",
       "2020-11-09     903.58\n",
       "2020-11-10    -185.40\n",
       "2020-11-11    -185.40\n",
       "2020-11-12    -185.40\n",
       "2020-11-13    -185.40\n",
       "2020-11-14    -185.40\n",
       "2020-11-15    -185.40\n",
       "2020-11-16    -185.40\n",
       "2020-11-17    -185.40\n",
       "2020-11-18    -185.40\n",
       "2020-11-19    -185.40\n",
       "2020-11-20    -185.40\n",
       "2020-11-21    -185.40\n",
       "2020-11-22    -185.40\n",
       "2020-11-23    -185.40\n",
       "2020-11-24    -185.40\n",
       "2020-11-25    -185.40\n",
       "2020-11-26    -185.40\n",
       "2020-11-27    -185.40\n",
       "2020-11-28    -185.40\n",
       "2020-11-29    -185.40\n",
       "2020-11-30    -185.40\n",
       "Freq: D, dtype: float64"
      ]
     },
     "execution_count": 9,
     "metadata": {},
     "output_type": "execute_result"
    }
   ],
   "source": [
    "portfolio.loc['2020-11']"
   ]
  }
 ],
 "metadata": {
  "kernelspec": {
   "display_name": "Python 3 (ipykernel)",
   "language": "python",
   "name": "python3"
  },
  "language_info": {
   "codemirror_mode": {
    "name": "ipython",
    "version": 3
   },
   "file_extension": ".py",
   "mimetype": "text/x-python",
   "name": "python",
   "nbconvert_exporter": "python",
   "pygments_lexer": "ipython3",
   "version": "3.10.5"
  }
 },
 "nbformat": 4,
 "nbformat_minor": 5
}

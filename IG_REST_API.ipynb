{
 "cells": [
  {
   "cell_type": "code",
   "execution_count": 1,
   "id": "2e0deb45-3b01-40bb-93a8-8c651af61864",
   "metadata": {},
   "outputs": [],
   "source": [
    "import requests"
   ]
  },
  {
   "cell_type": "code",
   "execution_count": 2,
   "id": "390edb92-0dc7-44fb-9b07-4d6575d1f1ad",
   "metadata": {},
   "outputs": [],
   "source": [
    "endpoint = 'https://demo-api.ig.com/gateway/deal/session'\n",
    "api_key_demo = 'c6625d5036d679e7ca85095e12ceadd55b7b04a8'\n",
    "query_params = {'X-IG-API-KEY': api_key_demo}\n",
    "login_params = {'identifier': 'gpjohno1', 'password': 'Fly1ngF1sh!'}"
   ]
  },
  {
   "cell_type": "code",
   "execution_count": 3,
   "id": "910924ad-464a-4c82-b54a-74c73b5899bf",
   "metadata": {},
   "outputs": [
    {
     "data": {
      "text/plain": [
       "<Response [403]>"
      ]
     },
     "execution_count": 3,
     "metadata": {},
     "output_type": "execute_result"
    }
   ],
   "source": [
    "response = requests.post(endpoint, params=login_params)\n",
    "response"
   ]
  }
 ],
 "metadata": {
  "kernelspec": {
   "display_name": "Python 3 (ipykernel)",
   "language": "python",
   "name": "python3"
  },
  "language_info": {
   "codemirror_mode": {
    "name": "ipython",
    "version": 3
   },
   "file_extension": ".py",
   "mimetype": "text/x-python",
   "name": "python",
   "nbconvert_exporter": "python",
   "pygments_lexer": "ipython3",
   "version": "3.10.5"
  }
 },
 "nbformat": 4,
 "nbformat_minor": 5
}

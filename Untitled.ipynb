{
 "cells": [
  {
   "cell_type": "code",
   "execution_count": 1,
   "id": "f8bb03f5-903e-401f-94f5-30f92c6a03e3",
   "metadata": {
    "tags": []
   },
   "outputs": [],
   "source": [
    "import numpy as np\n",
    "import pandas as pd"
   ]
  },
  {
   "cell_type": "code",
   "execution_count": 2,
   "id": "c87f9093-3ee7-481a-a368-831ad8472358",
   "metadata": {},
   "outputs": [],
   "source": [
    "mod = 7"
   ]
  },
  {
   "cell_type": "code",
   "execution_count": 3,
   "id": "11e8a65f-88a5-4a3d-9a9e-5e65d1a54e35",
   "metadata": {},
   "outputs": [
    {
     "data": {
      "text/plain": [
       "0     15\n",
       "1     22\n",
       "2     29\n",
       "3     36\n",
       "4     43\n",
       "5     50\n",
       "6     57\n",
       "7     64\n",
       "8     71\n",
       "9     78\n",
       "10    85\n",
       "11    92\n",
       "12    99\n",
       "dtype: int64"
      ]
     },
     "execution_count": 3,
     "metadata": {},
     "output_type": "execute_result"
    }
   ],
   "source": [
    "s = pd.Series(list(range(15, 100, 7)))\n",
    "s"
   ]
  },
  {
   "cell_type": "code",
   "execution_count": 4,
   "id": "c3eb335c-6340-4bdd-9f5a-1c23d6731661",
   "metadata": {},
   "outputs": [],
   "source": [
    "def inc(num, mod):\n",
    "    while num % mod != 0:\n",
    "        num += 1\n",
    "    return num"
   ]
  },
  {
   "cell_type": "code",
   "execution_count": 5,
   "id": "3a39dff9-b0dd-48dd-8ddf-e43f137a8d9b",
   "metadata": {},
   "outputs": [
    {
     "data": {
      "text/plain": [
       "0      21\n",
       "1      28\n",
       "2      35\n",
       "3      42\n",
       "4      49\n",
       "5      56\n",
       "6      63\n",
       "7      70\n",
       "8      77\n",
       "9      84\n",
       "10     91\n",
       "11     98\n",
       "12    105\n",
       "dtype: int64"
      ]
     },
     "execution_count": 5,
     "metadata": {},
     "output_type": "execute_result"
    }
   ],
   "source": [
    "s = s.map(lambda x: inc(x, mod))\n",
    "s"
   ]
  },
  {
   "cell_type": "code",
   "execution_count": 6,
   "id": "221a51e2-4fbe-41e9-a2c6-fe0c0c826db9",
   "metadata": {},
   "outputs": [
    {
     "data": {
      "text/plain": [
       "0     0\n",
       "1     0\n",
       "2     0\n",
       "3     0\n",
       "4     0\n",
       "5     0\n",
       "6     0\n",
       "7     0\n",
       "8     0\n",
       "9     0\n",
       "10    0\n",
       "11    0\n",
       "12    0\n",
       "dtype: int64"
      ]
     },
     "execution_count": 6,
     "metadata": {},
     "output_type": "execute_result"
    }
   ],
   "source": [
    "s % mod"
   ]
  }
 ],
 "metadata": {
  "kernelspec": {
   "display_name": "Python 3 (ipykernel)",
   "language": "python",
   "name": "python3"
  },
  "language_info": {
   "codemirror_mode": {
    "name": "ipython",
    "version": 3
   },
   "file_extension": ".py",
   "mimetype": "text/x-python",
   "name": "python",
   "nbconvert_exporter": "python",
   "pygments_lexer": "ipython3",
   "version": "3.10.4"
  }
 },
 "nbformat": 4,
 "nbformat_minor": 5
}

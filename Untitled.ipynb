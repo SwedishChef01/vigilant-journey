{
 "cells": [
  {
   "cell_type": "code",
   "execution_count": 1,
   "id": "a6fbeae4-88c4-4374-adda-163dad829d26",
   "metadata": {},
   "outputs": [],
   "source": [
    "import gta_prices\n",
    "import numpy as np\n",
    "import pandas as pd"
   ]
  },
  {
   "cell_type": "code",
   "execution_count": 2,
   "id": "812034c5-1714-47f2-ae49-ec4c87337794",
   "metadata": {},
   "outputs": [],
   "source": [
    "def donchian(prices, period):\n",
    "    '''Calculate upper, lower, & middle Donchian lines.'''\n",
    "    df = pd.DataFrame()\n",
    "    df['upr'] = prices.high.rolling(period).max().shift(periods=1)\n",
    "    df['lwr'] = prices.low.rolling(period).min().shift(periods=1)\n",
    "    df['mid'] = 0.5 * (df.upr + df.lwr)\n",
    "    return df"
   ]
  },
  {
   "cell_type": "code",
   "execution_count": 3,
   "id": "ce2382b4-bd8c-48f9-a68e-1da194e920bd",
   "metadata": {},
   "outputs": [],
   "source": [
    "exchange = 'LSE'\n",
    "tidm = 'HSV'\n",
    "p = [48, 24, 12, 6]"
   ]
  },
  {
   "cell_type": "code",
   "execution_count": 4,
   "id": "6bff7f83-908b-4a50-8224-7564ff6fbace",
   "metadata": {},
   "outputs": [],
   "source": [
    "prices = gta_prices.weekly(exchange, tidm)"
   ]
  },
  {
   "cell_type": "code",
   "execution_count": 5,
   "id": "2bc132db-bb1d-4eb6-ac1b-2b0f3eee54b5",
   "metadata": {},
   "outputs": [],
   "source": [
    "for i in range(len(p)):\n",
    "    globals()[f'p{i + 1}'] = p[i]\n",
    "    globals()[f'dc{i + 1}'] = donchian(prices, p[i])"
   ]
  }
 ],
 "metadata": {
  "kernelspec": {
   "display_name": "Python 3",
   "language": "python",
   "name": "python3"
  },
  "language_info": {
   "codemirror_mode": {
    "name": "ipython",
    "version": 3
   },
   "file_extension": ".py",
   "mimetype": "text/x-python",
   "name": "python",
   "nbconvert_exporter": "python",
   "pygments_lexer": "ipython3",
   "version": "3.8.8"
  }
 },
 "nbformat": 4,
 "nbformat_minor": 5
}

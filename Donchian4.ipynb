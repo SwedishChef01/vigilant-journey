{
 "cells": [
  {
   "cell_type": "code",
   "execution_count": 1,
   "id": "d2680890-ccf9-48cf-b193-9a974d3a0482",
   "metadata": {
    "tags": []
   },
   "outputs": [],
   "source": [
    "# Donchian Weekly Trend Following System\n",
    "import numpy as np\n",
    "import pandas as pd"
   ]
  },
  {
   "cell_type": "code",
   "execution_count": 2,
   "id": "a54398ef-fa4e-48a4-b223-fc756e0df52c",
   "metadata": {
    "tags": []
   },
   "outputs": [],
   "source": [
    "# Function definitions.\n",
    "def donchian(prices, period):\n",
    "    '''Calculate upper, lower, & middle Donchian lines.'''\n",
    "    df = pd.DataFrame(prices.copy())\n",
    "    df['upr'] = df.high.rolling(period).max().shift(periods=1)\n",
    "    df['lwr'] = df.low.rolling(period).min().shift(periods=1)\n",
    "    df['mid'] = 0.5 * (df.upr + df.lwr)\n",
    "    return df\n",
    "\n",
    "\n",
    "def remainder_zero(series, divisor):\n",
    "    '''Increment number until remainder is zero.'''\n",
    "    def increment_dividend(dividend, divisor):\n",
    "        '''Increment dividend while remainder does not equal zero.'''\n",
    "        while dividend % divisor != 0:\n",
    "            dividend += 1\n",
    "        return dividend\n",
    "    series = series.map(lambda x: increment_dividend(x, divisor))\n",
    "    return series\n",
    "\n",
    "\n",
    "def weekly(exchange, tidm):\n",
    "    '''Generate weekly prices from SharePad csv file of daily prices.'''\n",
    "    df = pd.read_csv(\n",
    "        f'{exchange}_{tidm}_prices.csv',\n",
    "        header=0,\n",
    "        names=['date', 'open', 'high', 'low', 'close'],\n",
    "        index_col=0,\n",
    "        usecols=[0, 1, 2, 3, 4],\n",
    "        parse_dates=True,\n",
    "        dayfirst=True,\n",
    "    )\n",
    "    df = df.sort_index()\n",
    "    functions = dict(open='first', high='max', low='min', close='last')\n",
    "    df = df.resample('W-FRI').agg(functions)\n",
    "    df = df / 100\n",
    "    return df"
   ]
  },
  {
   "cell_type": "code",
   "execution_count": 3,
   "id": "a09caea8-2371-4f3d-8ae6-9ebd70546a0d",
   "metadata": {},
   "outputs": [],
   "source": [
    "# Trade parameters.\n",
    "exchange = 'LSE'\n",
    "tidm = 'HSV'\n",
    "periods = [48, 24, 12, 6]  # System look back periods.\n",
    "position_size = 7500  # Position size in major currency unit.\n",
    "risk_pct = 0.2  # Percentage risk per trade.\n",
    "commission = 11.95  # Commission per trade.\n",
    "sduty = 0.5  # Stamp Duty percentage."
   ]
  },
  {
   "cell_type": "code",
   "execution_count": 4,
   "id": "7cfc6df0-d0b7-4a35-815e-6342a42f32f7",
   "metadata": {
    "tags": []
   },
   "outputs": [],
   "source": [
    "# Import weekly prices.\n",
    "prices = weekly(exchange, tidm)"
   ]
  },
  {
   "cell_type": "code",
   "execution_count": null,
   "id": "2a727a92-7bcb-4dbf-b436-24516661a194",
   "metadata": {
    "tags": []
   },
   "outputs": [],
   "source": [
    "# Trade signals.\n",
    "signals = []\n",
    "for sys, period in enumerate(periods):\n",
    "    \n",
    "    # Donchian channel.\n",
    "    dc = donchian(prices, period)\n",
    "    dc['sys'] = sys\n",
    "    dc['period'] = period\n",
    "    \n",
    "    # Raw entry & exit signals.\n",
    "    if sys == 0:\n",
    "        dc['entry'] = np.where(dc.close > dc.upr, 1, 0)\n",
    "    else:\n",
    "        dc['entry'] = buy\n",
    "    dc['exit'] = np.where(dc.close < dc.mid, 1, 0)\n",
    "    \n",
    "    # State variable.\n",
    "    dc['state'] = 0\n",
    "    for i in range(period, len(dc)):\n",
    "        if dc.loc[dc.index[i], 'entry'] == 1 and dc.loc[dc.index[i - 1], 'state'] == 0:\n",
    "            dc.loc[dc.index[i], 'state'] = 1\n",
    "        elif dc.loc[dc.index[i], 'exit'] == 1:\n",
    "            dc.loc[dc.index[i], 'state'] = 0\n",
    "        else:\n",
    "            dc.loc[dc.index[i], 'state'] = dc.loc[dc.index[i - 1], 'state']\n",
    "            \n",
    "    # Buy & sell signals.\n",
    "    dc['buy'] = np.where(np.logical_and(dc.state == 1, dc.state.shift(periods=1) == 0), 1, 0)\n",
    "    buy = dc.buy\n",
    "    dc['sell'] = np.where(np.logical_and(dc.state == 0, dc.state.shift(periods=1) == 1), 1, 0)\n",
    "    \n",
    "    # Filter signals.\n",
    "    if sys == 0:\n",
    "        dc = pd.concat([dc[dc.buy == 1] , dc[dc.sell == 1]], axis=0)\n",
    "    else:\n",
    "        dc = dc[dc.sell == 1]\n",
    "    signals.append(dc)"
   ]
  },
  {
   "cell_type": "code",
   "execution_count": null,
   "id": "a443f64b-05c1-44e9-880d-34e711d250ba",
   "metadata": {},
   "outputs": [],
   "source": [
    "# Trade list indexed by date.\n",
    "td = pd.concat(signals)\n",
    "td = td.sort_index()"
   ]
  },
  {
   "cell_type": "code",
   "execution_count": null,
   "id": "457f4cb8-6b0c-4d14-a5a2-50b61c005a31",
   "metadata": {},
   "outputs": [],
   "source": [
    "# Position size (buy side).\n",
    "td['volatility'] = np.where(td.buy == 1, abs((td.mid - td.close) / td.close), 0)\n",
    "td['risk_amt_raw'] = np.where(td.buy == 1, ((position_size * risk_pct) / td.volatility), 0)\n",
    "td['shares_raw'] = np.where(td.buy == 1, (td.risk_amt_raw / td.close).astype('int'), 0)\n",
    "td['shares'] = remainder_zero(td.shares_raw, len(periods)) # Adjust shares to be divisible by number of systems.\n",
    "td['risk_amt'] = td.close * td.shares # Adjust risk amount for revised share count.\n",
    "\n",
    "# Position size (sell side).\n",
    "for index, row in td.iterrows():\n",
    "    if row['buy'] == 1:\n",
    "        shares = row['shares']\n",
    "    else:\n",
    "        td.at[index, 'shares'] = int(shares / 4)"
   ]
  },
  {
   "cell_type": "code",
   "execution_count": null,
   "id": "57f41a98-d5ee-4519-9ac2-ea528b3ff5f6",
   "metadata": {},
   "outputs": [],
   "source": [
    "# Charges.\n",
    "td['charges'] = td.index.values\n",
    "td.charges = td.charges.shift()\n",
    "td.charges = np.where(td.index == td.charges.values, 0, commission)\n",
    "\n",
    "# Stamp duty.\n",
    "td['sduty'] = np.where(td.buy==1, ((sduty / 100) * td.close * td.shares), 0)\n",
    "\n",
    "# Cost to buy.\n",
    "td['cost'] = np.where(td.buy == 1, (td.risk_amt + td.charges + td.sduty), 0)\n",
    "\n",
    "# Cost to sell.\n",
    "for index, row in td.iterrows():\n",
    "    if row['buy'] == 1:\n",
    "        cost = row['cost']\n",
    "    else:\n",
    "        td.at[index, 'cost'] = (cost / 4)"
   ]
  },
  {
   "cell_type": "code",
   "execution_count": null,
   "id": "abd475bf-bed1-4d02-9325-8ffe5c7449c3",
   "metadata": {},
   "outputs": [],
   "source": [
    "# Returns.\n",
    "td['value'] = np.where(td.sell == 1, ((td.close * td.shares) - td.charges), 0)\n",
    "td['profit'] = np.where(td.sell == 1, td.value - td.cost, 0)\n",
    "td['pct'] = np.where(td.sell == 1, (td.profit / td.cost), 0)\n",
    "\n",
    "# Trade duration.\n",
    "td['days'] = 0\n",
    "for index, row in td.iterrows():\n",
    "    if row['entry'] == 1:\n",
    "        start_date = index\n",
    "    else:\n",
    "        td.at[index, 'days'] = index - start_date\n",
    "td.days = td.days.astype('timedelta64[D]')\n",
    "td.days = td.days.dt.days\n",
    "\n",
    "# Annual percentage return.\n",
    "td['annual'] = ((np.power(1 + td.profit / td.cost, (365 / td.days)) - 1))\n",
    "\n",
    "# Cumulative profit.\n",
    "td['cum_profit'] = td.profit.cumsum()"
   ]
  },
  {
   "cell_type": "code",
   "execution_count": null,
   "id": "ae658107-2bd8-4087-8945-5f211f0fa0c9",
   "metadata": {},
   "outputs": [],
   "source": [
    "# Trade list indexed by trade.\n",
    "td = td.reset_index()\n",
    "td.insert(0, 'trade', td.state.cumsum())"
   ]
  },
  {
   "cell_type": "code",
   "execution_count": null,
   "id": "aca6d677-6f46-4289-8cb5-c87b3d6c5bb9",
   "metadata": {},
   "outputs": [],
   "source": [
    "(\n",
    "    td[td.trade == 1].style\n",
    "        .apply(\n",
    "            lambda s: np.where(s < 0, 'color:red;', 'color:lightgreen;'),\n",
    "            axis=0,\n",
    "            subset=['profit', 'cum_profit', 'pct', 'annual']\n",
    "        )\n",
    "        .format({\n",
    "            'date': '{:%Y-%m-%d}',\n",
    "            'open': '{:.3f}',\n",
    "            'high': '{:.3f}',\n",
    "            'low': '{:.3f}',\n",
    "            'close': '{:.3f}',\n",
    "            'upr': '{:.3f}',\n",
    "            'lwr': '{:.3f}',\n",
    "            'mid': '{:.3f}',\n",
    "            'volatility': '{:.1%}',\n",
    "            'risk_amt_raw': '{:,.2f}',\n",
    "            'risk_amt': '{:,.2f}',\n",
    "            'charges': '{:,.2f}',\n",
    "            'sduty': '{:,.2f}',\n",
    "            'cost': '{:,.2f}',\n",
    "            'value': '{:,.2f}',\n",
    "            'profit': '{:,.2f}',\n",
    "            'pct': '{:,.1%}',\n",
    "            'annual': '{:,.1%}',\n",
    "            'cum_profit': '{:,.2f}',\n",
    "        })\n",
    "        .hide()\n",
    "        .hide(['sys', 'entry', 'exit', 'state', 'risk_amt_raw', 'shares_raw'], axis='columns')\n",
    ")"
   ]
  }
 ],
 "metadata": {
  "kernelspec": {
   "display_name": "Python 3 (ipykernel)",
   "language": "python",
   "name": "python3"
  },
  "language_info": {
   "codemirror_mode": {
    "name": "ipython",
    "version": 3
   },
   "file_extension": ".py",
   "mimetype": "text/x-python",
   "name": "python",
   "nbconvert_exporter": "python",
   "pygments_lexer": "ipython3",
   "version": "3.10.4"
  }
 },
 "nbformat": 4,
 "nbformat_minor": 5
}

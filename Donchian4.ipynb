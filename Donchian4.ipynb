{
 "cells": [
  {
   "cell_type": "code",
   "execution_count": 1,
   "id": "d2680890-ccf9-48cf-b193-9a974d3a0482",
   "metadata": {
    "tags": []
   },
   "outputs": [],
   "source": [
    "import numpy as np\n",
    "import pandas as pd"
   ]
  },
  {
   "cell_type": "code",
   "execution_count": 2,
   "id": "a54398ef-fa4e-48a4-b223-fc756e0df52c",
   "metadata": {
    "tags": []
   },
   "outputs": [],
   "source": [
    "def donchian(prices, period):\n",
    "    '''Calculate upper, lower, & middle Donchian lines.'''\n",
    "    df = pd.DataFrame(prices.copy())\n",
    "    df['upr'] = df.high.rolling(period).max().shift(periods=1)\n",
    "    df['lwr'] = df.low.rolling(period).min().shift(periods=1)\n",
    "    df['mid'] = 0.5 * (df.upr + df.lwr)\n",
    "    return df\n",
    "\n",
    "\n",
    "def weekly(exchange, tidm):\n",
    "    '''Generate weekly prices from SharePad csv file of daily prices.'''\n",
    "    df = pd.read_csv(\n",
    "        f'{exchange}_{tidm}_prices.csv',\n",
    "        header=0,\n",
    "        names=['date', 'open', 'high', 'low', 'close'],\n",
    "        index_col=0,\n",
    "        usecols=[0, 1, 2, 3, 4],\n",
    "        parse_dates=True,\n",
    "        dayfirst=True,\n",
    "    )\n",
    "    df = df.sort_index()\n",
    "    functions = dict(open='first', high='max', low='min', close='last')\n",
    "    df = df.resample('W-FRI').agg(functions)\n",
    "    df = df / 100\n",
    "    return df"
   ]
  },
  {
   "cell_type": "code",
   "execution_count": 3,
   "id": "a09caea8-2371-4f3d-8ae6-9ebd70546a0d",
   "metadata": {},
   "outputs": [],
   "source": [
    "# Trade parameters.\n",
    "exchange = 'LSE'\n",
    "tidm = 'HSV'\n",
    "periods = pd.Series({'1': 48, '2': 24, '3': 12, '4': 6})  # System look back periods.\n",
    "position_size = 7500  # Position size in major currency unit.\n",
    "risk_pct = 0.2  # Percentage risk per trade.\n",
    "commission = 11.95  # Commission per trade.\n",
    "sduty = 0.5  # Stamp Duty percentage."
   ]
  },
  {
   "cell_type": "code",
   "execution_count": 4,
   "id": "7cfc6df0-d0b7-4a35-815e-6342a42f32f7",
   "metadata": {
    "tags": []
   },
   "outputs": [],
   "source": [
    "# Import weekly prices.\n",
    "prices = weekly(exchange, tidm)"
   ]
  },
  {
   "cell_type": "code",
   "execution_count": 5,
   "id": "2a727a92-7bcb-4dbf-b436-24516661a194",
   "metadata": {
    "tags": []
   },
   "outputs": [],
   "source": [
    "# Donchian channels.\n",
    "dc = pd.Series(index=periods.index, dtype='object')\n",
    "for sys, period in periods.items():\n",
    "    dc.at[sys] = donchian(prices, period)"
   ]
  },
  {
   "cell_type": "code",
   "execution_count": 7,
   "id": "0da39465-f32c-43eb-b9fe-162c144ca14c",
   "metadata": {
    "collapsed": true,
    "jupyter": {
     "outputs_hidden": true
    },
    "tags": []
   },
   "outputs": [
    {
     "ename": "AttributeError",
     "evalue": "'DataFrame' object has no attribute 'entry'",
     "output_type": "error",
     "traceback": [
      "\u001b[1;31m---------------------------------------------------------------------------\u001b[0m",
      "\u001b[1;31mAttributeError\u001b[0m                            Traceback (most recent call last)",
      "Input \u001b[1;32mIn [7]\u001b[0m, in \u001b[0;36m<cell line: 2>\u001b[1;34m()\u001b[0m\n\u001b[0;32m      4\u001b[0m         dc\u001b[38;5;241m.\u001b[39mloc[\u001b[38;5;124mf\u001b[39m\u001b[38;5;124m'\u001b[39m\u001b[38;5;132;01m{\u001b[39;00msys\u001b[38;5;132;01m}\u001b[39;00m\u001b[38;5;124m'\u001b[39m][\u001b[38;5;124m'\u001b[39m\u001b[38;5;124mbuy\u001b[39m\u001b[38;5;124m'\u001b[39m] \u001b[38;5;241m=\u001b[39m np\u001b[38;5;241m.\u001b[39mwhere(dc\u001b[38;5;241m.\u001b[39mloc[\u001b[38;5;124mf\u001b[39m\u001b[38;5;124m'\u001b[39m\u001b[38;5;132;01m{\u001b[39;00msys\u001b[38;5;132;01m}\u001b[39;00m\u001b[38;5;124m'\u001b[39m]\u001b[38;5;241m.\u001b[39mclose \u001b[38;5;241m>\u001b[39m dc\u001b[38;5;241m.\u001b[39mloc[\u001b[38;5;124mf\u001b[39m\u001b[38;5;124m'\u001b[39m\u001b[38;5;132;01m{\u001b[39;00msys\u001b[38;5;132;01m}\u001b[39;00m\u001b[38;5;124m'\u001b[39m]\u001b[38;5;241m.\u001b[39mupr, \u001b[38;5;241m1\u001b[39m, \u001b[38;5;241m0\u001b[39m)\n\u001b[0;32m      5\u001b[0m     \u001b[38;5;28;01melse\u001b[39;00m:\n\u001b[1;32m----> 6\u001b[0m         dc\u001b[38;5;241m.\u001b[39mloc[\u001b[38;5;124mf\u001b[39m\u001b[38;5;124m'\u001b[39m\u001b[38;5;132;01m{\u001b[39;00msys\u001b[38;5;132;01m}\u001b[39;00m\u001b[38;5;124m'\u001b[39m][\u001b[38;5;124m'\u001b[39m\u001b[38;5;124mbuy\u001b[39m\u001b[38;5;124m'\u001b[39m] \u001b[38;5;241m=\u001b[39m  \u001b[43mdc\u001b[49m\u001b[38;5;241;43m.\u001b[39;49m\u001b[43mloc\u001b[49m\u001b[43m[\u001b[49m\u001b[38;5;124;43mf\u001b[39;49m\u001b[38;5;124;43m'\u001b[39;49m\u001b[38;5;132;43;01m{\u001b[39;49;00m\u001b[43msys\u001b[49m\u001b[38;5;132;43;01m}\u001b[39;49;00m\u001b[38;5;124;43m'\u001b[39;49m\u001b[43m]\u001b[49m\u001b[38;5;241;43m.\u001b[39;49m\u001b[43mentry\u001b[49m\n\u001b[0;32m      7\u001b[0m dc\u001b[38;5;241m.\u001b[39mloc[\u001b[38;5;124m'\u001b[39m\u001b[38;5;124m1\u001b[39m\u001b[38;5;124m'\u001b[39m]\n",
      "File \u001b[1;32m~\\Anaconda3\\envs\\gta-project\\lib\\site-packages\\pandas\\core\\generic.py:5575\u001b[0m, in \u001b[0;36mNDFrame.__getattr__\u001b[1;34m(self, name)\u001b[0m\n\u001b[0;32m   5568\u001b[0m \u001b[38;5;28;01mif\u001b[39;00m (\n\u001b[0;32m   5569\u001b[0m     name \u001b[38;5;129;01mnot\u001b[39;00m \u001b[38;5;129;01min\u001b[39;00m \u001b[38;5;28mself\u001b[39m\u001b[38;5;241m.\u001b[39m_internal_names_set\n\u001b[0;32m   5570\u001b[0m     \u001b[38;5;129;01mand\u001b[39;00m name \u001b[38;5;129;01mnot\u001b[39;00m \u001b[38;5;129;01min\u001b[39;00m \u001b[38;5;28mself\u001b[39m\u001b[38;5;241m.\u001b[39m_metadata\n\u001b[0;32m   5571\u001b[0m     \u001b[38;5;129;01mand\u001b[39;00m name \u001b[38;5;129;01mnot\u001b[39;00m \u001b[38;5;129;01min\u001b[39;00m \u001b[38;5;28mself\u001b[39m\u001b[38;5;241m.\u001b[39m_accessors\n\u001b[0;32m   5572\u001b[0m     \u001b[38;5;129;01mand\u001b[39;00m \u001b[38;5;28mself\u001b[39m\u001b[38;5;241m.\u001b[39m_info_axis\u001b[38;5;241m.\u001b[39m_can_hold_identifiers_and_holds_name(name)\n\u001b[0;32m   5573\u001b[0m ):\n\u001b[0;32m   5574\u001b[0m     \u001b[38;5;28;01mreturn\u001b[39;00m \u001b[38;5;28mself\u001b[39m[name]\n\u001b[1;32m-> 5575\u001b[0m \u001b[38;5;28;01mreturn\u001b[39;00m \u001b[38;5;28;43mobject\u001b[39;49m\u001b[38;5;241;43m.\u001b[39;49m\u001b[38;5;21;43m__getattribute__\u001b[39;49m\u001b[43m(\u001b[49m\u001b[38;5;28;43mself\u001b[39;49m\u001b[43m,\u001b[49m\u001b[43m \u001b[49m\u001b[43mname\u001b[49m\u001b[43m)\u001b[49m\n",
      "\u001b[1;31mAttributeError\u001b[0m: 'DataFrame' object has no attribute 'entry'"
     ]
    }
   ],
   "source": [
    "# Trade signals.\n",
    "for sys, donchian in dc.items():\n",
    "    if sys == 1:\n",
    "        dc.loc[f'{sys}']['buy'] = np.where(dc.loc[f'{sys}'].close > dc.loc[f'{sys}'].upr, 1, 0)\n",
    "    else:\n",
    "        dc.loc[f'{sys}']['buy'] =  dc.loc[f'{sys}'].entry\n",
    "    dc.loc[f'{sys}']['sell'] = np.where(dc.loc[f'{sys}'].close < dc.loc[f'{sys}'].mid, 1, 0)\n",
    "    dc.loc[f'{sys}']['state'] = 0\n",
    "    for i in range(period, len(df)):\n",
    "        if df.loc[df.index[i], 'entry'] == 1 \\\n",
    "        and df.loc[df.index[i - 1], 'state'] == 0:\n",
    "            df.loc[df.index[i], 'state'] = 1\n",
    "        elif df.loc[df.index[i], 'exit'] == 1:\n",
    "            df.loc[df.index[i], 'state'] = 0\n",
    "        else:\n",
    "            df.loc[df.index[i], 'state'] = df.loc[df.index[i - 1], 'state']\n",
    "dc.loc['1']"
   ]
  }
 ],
 "metadata": {
  "kernelspec": {
   "display_name": "Python 3 (ipykernel)",
   "language": "python",
   "name": "python3"
  },
  "language_info": {
   "codemirror_mode": {
    "name": "ipython",
    "version": 3
   },
   "file_extension": ".py",
   "mimetype": "text/x-python",
   "name": "python",
   "nbconvert_exporter": "python",
   "pygments_lexer": "ipython3",
   "version": "3.10.4"
  }
 },
 "nbformat": 4,
 "nbformat_minor": 5
}

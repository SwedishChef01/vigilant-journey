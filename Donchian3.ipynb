{
 "cells": [
  {
   "cell_type": "code",
   "execution_count": 1,
   "id": "a6fbeae4-88c4-4374-adda-163dad829d26",
   "metadata": {},
   "outputs": [],
   "source": [
    "import gta_prices\n",
    "import numpy as np\n",
    "import pandas as pd"
   ]
  },
  {
   "cell_type": "code",
   "execution_count": 2,
   "id": "812034c5-1714-47f2-ae49-ec4c87337794",
   "metadata": {},
   "outputs": [],
   "source": [
    "def donchian(prices, periods):\n",
    "    '''Calculate upper, lower, & middle Donchian lines.'''\n",
    "    for i, period in enumerate(periods.values()):\n",
    "        df = pd.DataFrame(prices.copy())\n",
    "        i += 1\n",
    "        df['upr'] = prices.high.rolling(period).max().shift(periods=1)\n",
    "        df['lwr'] = prices.low.rolling(period).min().shift(periods=1)\n",
    "        df['mid'] = 0.5 * (df.upr + df.lwr)\n",
    "        locals()[f'dc{i}'] = df\n",
    "    return df\n",
    "\n",
    "\n",
    "def state(entry_signal, exit_signal, period):\n",
    "    '''Calculate trade state signals.'''\n",
    "    df = pd.concat([entry_signal, exit_signal], axis=1)\n",
    "    df.columns = ['entry', 'exit']\n",
    "    df['state'] = 0\n",
    "    for i in range(period, len(df)):\n",
    "        if df.loc[df.index[i], 'entry'] == 1 \\\n",
    "                and df.loc[df.index[i - 1], 'state'] == 0:\n",
    "            df.loc[df.index[i], 'state'] = 1\n",
    "        elif df.loc[df.index[i], 'exit'] == 1:\n",
    "            df.loc[df.index[i], 'state'] = 0\n",
    "        else:\n",
    "            df.loc[df.index[i], 'state'] = df.loc[df.index[i - 1], 'state']\n",
    "    return df.state"
   ]
  },
  {
   "cell_type": "code",
   "execution_count": 3,
   "id": "ce2382b4-bd8c-48f9-a68e-1da194e920bd",
   "metadata": {},
   "outputs": [],
   "source": [
    "# Trade parameters.\n",
    "exchange = 'LSE'\n",
    "tidm = 'HSV'\n",
    "periods = {'p1': 48, 'p2': 24, 'p3': 12, 'p4': 6}\n",
    "position_size = 7500\n",
    "risk_pct = 0.2\n",
    "commission = 11.95\n",
    "sduty = 0.5"
   ]
  },
  {
   "cell_type": "code",
   "execution_count": 4,
   "id": "6bff7f83-908b-4a50-8224-7564ff6fbace",
   "metadata": {},
   "outputs": [],
   "source": [
    "# Import weekly closing prices.\n",
    "prices = gta_prices.weekly(exchange, tidm)"
   ]
  },
  {
   "cell_type": "code",
   "execution_count": 5,
   "id": "c1bae6c7-1359-4f81-8008-5a76d57fcf4e",
   "metadata": {},
   "outputs": [],
   "source": [
    "# Donchian lines.\n",
    "# for i, period in enumerate(periods.values()):\n",
    "#     i += 1\n",
    "#     globals()[f'p{i}'] = period\n",
    "#     globals()[f'dc{i}'] = donchian(prices, period)"
   ]
  },
  {
   "cell_type": "code",
   "execution_count": 6,
   "id": "65a55d5b-cea0-4c79-a280-8a1c590d3e43",
   "metadata": {},
   "outputs": [],
   "source": [
    "# dc = pd.concat([dc1, dc2, dc3, dc4], keys=['dc1', 'dc2', 'dc3', 'dc4'])\n",
    "# dc.loc['dc4']"
   ]
  },
  {
   "cell_type": "code",
   "execution_count": 7,
   "id": "2bc132db-bb1d-4eb6-ac1b-2b0f3eee54b5",
   "metadata": {},
   "outputs": [],
   "source": [
    "# Donchian lines, entries & exits for each look back period.\n",
    "# entry = None\n",
    "# for i, period in enumerate(periods.values()):\n",
    "#     i += 1\n",
    "#     globals()[f'p{i}'] = period\n",
    "#     df = pd.DataFrame(prices.copy())\n",
    "#     df['upr'] = prices.high.rolling(period).max().shift(periods=1)\n",
    "#     df['lwr'] = prices.low.rolling(period).min().shift(periods=1)\n",
    "#     df['mid'] = 0.5 * (df.upr + df.lwr)\n",
    "#     df['sys'] = i\n",
    "#     df['period'] = period\n",
    "#     if i == 1:\n",
    "#         df['buy'] = np.where(df.close > df.upr, 1, 0)\n",
    "#     else:\n",
    "#         df['buy'] = entry\n",
    "#     df['sell'] = np.where(df.close < df.mid, 1, 0)\n",
    "#     df['state'] = state(df.buy, df.sell, period)\n",
    "#     df['entry'] = np.where(np.logical_and(df.state == 1, df.state.shift(periods=1) == 0), 1, 0)\n",
    "#     if i == 1:\n",
    "#         entry = df.entry\n",
    "#     df['exit'] = np.where(np.logical_and(df.state == 0, df.state.shift(periods=1) == 1), 1, 0)\n",
    "#     globals()[f'dc{i}'] = df"
   ]
  },
  {
   "cell_type": "code",
   "execution_count": 11,
   "id": "0bc76e66-632b-4013-9b28-c954f2dbd011",
   "metadata": {},
   "outputs": [
    {
     "data": {
      "text/plain": [
       "['dc1', 'dc2', 'dc3', 'dc4']"
      ]
     },
     "execution_count": 11,
     "metadata": {},
     "output_type": "execute_result"
    }
   ],
   "source": [
    "dc = [f'dc{i + 1}' for i in range(len(periods))]\n",
    "dc"
   ]
  },
  {
   "cell_type": "code",
   "execution_count": null,
   "id": "869b3b8f-0f12-44ad-bd74-cf0443ee8094",
   "metadata": {},
   "outputs": [],
   "source": [
    "# frames = [ process_your_file(f) for f in files ]\n",
    "# result = pd.concat(frames)"
   ]
  }
 ],
 "metadata": {
  "kernelspec": {
   "display_name": "Python 3",
   "language": "python",
   "name": "python3"
  },
  "language_info": {
   "codemirror_mode": {
    "name": "ipython",
    "version": 3
   },
   "file_extension": ".py",
   "mimetype": "text/x-python",
   "name": "python",
   "nbconvert_exporter": "python",
   "pygments_lexer": "ipython3",
   "version": "3.8.8"
  }
 },
 "nbformat": 4,
 "nbformat_minor": 5
}

{
 "cells": [
  {
   "cell_type": "code",
   "execution_count": 1,
   "id": "d2680890-ccf9-48cf-b193-9a974d3a0482",
   "metadata": {
    "tags": []
   },
   "outputs": [],
   "source": [
    "import numpy as np\n",
    "import pandas as pd"
   ]
  },
  {
   "cell_type": "code",
   "execution_count": 2,
   "id": "a54398ef-fa4e-48a4-b223-fc756e0df52c",
   "metadata": {
    "tags": []
   },
   "outputs": [],
   "source": [
    "def donchian(price, period):\n",
    "    '''Calculate upper, lower, & middle Donchian lines.'''\n",
    "    df = pd.DataFrame(price.copy())\n",
    "    df['upr'] = price.high.rolling(period).max().shift(periods=1)\n",
    "    df['lwr'] = price.low.rolling(period).min().shift(periods=1)\n",
    "    df['mid'] = 0.5 * (df.upr + df.lwr)\n",
    "    return df\n",
    "\n",
    "def signal(period):\n",
    "    '''Calculate buy & sell signals'''\n",
    "    \n",
    "\n",
    "\n",
    "def weekly(exchange, tidm):\n",
    "    '''Weekly closing prices from SharePad csv file of daily prices.'''\n",
    "    df = pd.read_csv(\n",
    "        f'{exchange}_{tidm}_prices.csv',\n",
    "        header=0,\n",
    "        names=['date', 'open', 'high', 'low', 'close'],\n",
    "        index_col=0,\n",
    "        usecols=[0, 1, 2, 3, 4],\n",
    "        parse_dates=True,\n",
    "        dayfirst=True,\n",
    "    )\n",
    "    df = df.sort_index()\n",
    "    functions = dict(open='first', high='max', low='min', close='last')\n",
    "    df = df.resample('W-FRI').agg(functions)\n",
    "    df = df / 100\n",
    "    return df\n",
    "\n",
    "\n",
    "def remainder_zero(series, divisor):\n",
    "    '''Increment number until remainder is zero.'''\n",
    "    def increment_dividend(dividend, divisor):\n",
    "        '''Increment dividend while remainder does not equal zero.'''\n",
    "        while dividend % divisor != 0:\n",
    "            dividend += 1\n",
    "        return dividend\n",
    "    series = series.map(lambda x: increment_dividend(x, divisor))\n",
    "    return series"
   ]
  },
  {
   "cell_type": "code",
   "execution_count": 3,
   "id": "a09caea8-2371-4f3d-8ae6-9ebd70546a0d",
   "metadata": {},
   "outputs": [],
   "source": [
    "# Trade parameters.\n",
    "exchange = 'LSE'\n",
    "tidm = 'HSV'\n",
    "period = pd.Series({'1': 48, '2': 24, '3': 12, '4': 6})  # Look back periods.\n",
    "position_size = 7500  # Position size in major currency unit.\n",
    "risk_pct = 0.2  # Percentage risk per trade.\n",
    "commission = 11.95  # Commission per trade.\n",
    "sduty = 0.5  # Stamp Duty percentage."
   ]
  },
  {
   "cell_type": "code",
   "execution_count": 4,
   "id": "7cfc6df0-d0b7-4a35-815e-6342a42f32f7",
   "metadata": {
    "tags": []
   },
   "outputs": [],
   "source": [
    "# Import weekly closing prices.\n",
    "price = weekly(exchange, tidm)"
   ]
  },
  {
   "cell_type": "code",
   "execution_count": 5,
   "id": "2a727a92-7bcb-4dbf-b436-24516661a194",
   "metadata": {
    "tags": []
   },
   "outputs": [],
   "source": [
    "# Donchian channels.\n",
    "for i in period.index:\n",
    "    globals()[f'dc{i}'] = donchian(price, period[i])\n",
    "    "
   ]
  },
  {
   "cell_type": "code",
   "execution_count": 6,
   "id": "de525b32-fd7a-4c84-b843-189d9649163c",
   "metadata": {},
   "outputs": [],
   "source": [
    "# # Entry & exit signals.\n",
    "# df['buy'] = np.where(df.close > df.upr, 1, 0)\n",
    "# df['sell'] = np.where(df.close < df.mid, 1, 0)\n",
    "# df['state'] = 0\n",
    "# for i in range(period, len(df)):\n",
    "#     if df.loc[df.index[i], 'buy'] == 1 and df.loc[df.index[i - 1], 'state'] == 0:\n",
    "#         df.loc[df.index[i], 'state'] = 1\n",
    "#     elif df.loc[df.index[i], 'sell'] == 1:\n",
    "#         df.loc[df.index[i], 'state'] = 0\n",
    "#     else:\n",
    "#         df.loc[df.index[i], 'state'] = df.loc[df.index[i - 1], 'state']\n",
    "# df['entry'] = np.where(np.logical_and(df.state == 1, df.state.shift(periods=1) == 0), 1, 0)\n",
    "# df['exit'] = np.where(np.logical_and(df.state == 0, df.state.shift(periods=1) == 1), 1, 0)"
   ]
  },
  {
   "cell_type": "code",
   "execution_count": 7,
   "id": "56968299-2ff0-45b4-9382-0e68466a0313",
   "metadata": {},
   "outputs": [],
   "source": [
    "# # Position Size.\n",
    "# db = pd.DataFrame(df[df.entry == 1])\n",
    "# db['volatility'] = abs((db.mid - db.close) / db.close)\n",
    "# db['risk_amt'] = (position_size * risk_pct) / db.volatility\n",
    "# db['shares'] = (db.risk_amt / db.close).astype('int')\n",
    "# (\n",
    "#     db.style\n",
    "#         .format_index(lambda s: s.strftime(\"%Y-%m-%d\"))\n",
    "#         .format({\n",
    "#             'open': '{:.3f}',\n",
    "#             'high': '{:.3f}',\n",
    "#             'low': '{:.3f}',\n",
    "#             'close': '{:.3f}',\n",
    "#             'upr': '{:.3f}',\n",
    "#             'lwr': '{:.3f}',\n",
    "#             'mid': '{:.3f}',\n",
    "#             'volatility': '{:.1%}',\n",
    "#             'risk_amt': '{:,.2f}',\n",
    "#         })\n",
    "# )"
   ]
  }
 ],
 "metadata": {
  "kernelspec": {
   "display_name": "Python 3 (ipykernel)",
   "language": "python",
   "name": "python3"
  },
  "language_info": {
   "codemirror_mode": {
    "name": "ipython",
    "version": 3
   },
   "file_extension": ".py",
   "mimetype": "text/x-python",
   "name": "python",
   "nbconvert_exporter": "python",
   "pygments_lexer": "ipython3",
   "version": "3.10.4"
  }
 },
 "nbformat": 4,
 "nbformat_minor": 5
}

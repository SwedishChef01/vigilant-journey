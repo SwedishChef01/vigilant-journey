{
 "cells": [
  {
   "cell_type": "code",
   "execution_count": 1,
   "id": "d2680890-ccf9-48cf-b193-9a974d3a0482",
   "metadata": {
    "tags": []
   },
   "outputs": [],
   "source": [
    "import numpy as np\n",
    "import pandas as pd"
   ]
  },
  {
   "cell_type": "code",
   "execution_count": 2,
   "id": "a54398ef-fa4e-48a4-b223-fc756e0df52c",
   "metadata": {
    "tags": []
   },
   "outputs": [],
   "source": [
    "def donchian(price, period):\n",
    "    '''Calculate upper, lower, & middle Donchian lines.'''\n",
    "    df = pd.DataFrame()\n",
    "    df['upr'] = price.high.rolling(period).max().shift(periods=1)\n",
    "    df['lwr'] = price.low.rolling(period).min().shift(periods=1)\n",
    "    df['mid'] = 0.5 * (df.upr + df.lwr)\n",
    "    return df\n",
    "\n",
    "\n",
    "def signal(price, donchian):\n",
    "    '''Calculate buy & sell signals.'''\n",
    "    df = pd.DataFrame(index=price.index)\n",
    "    df['buy'] = np.where(price.close > donchian.upr, 1, 0)\n",
    "    df['sell'] = np.where(price.close < donchian.mid, 1, 0)\n",
    "    df['state'] = 0\n",
    "    for i in range(period, len(df)):\n",
    "        if df.loc[df.index[i], 'buy'] == 1 and df.loc[df.index[i - 1], 'state'] == 0:\n",
    "            df.loc[df.index[i], 'state'] = 1\n",
    "        elif df.loc[df.index[i], 'sell'] == 1:\n",
    "            df.loc[df.index[i], 'state'] = 0\n",
    "        else:\n",
    "            df.loc[df.index[i], 'state'] = df.loc[df.index[i - 1], 'state']\n",
    "    return df\n",
    "\n",
    "def weekly(exchange, tidm):\n",
    "    '''Generate weekly prices from SharePad csv file of daily prices.'''\n",
    "    df = pd.read_csv(\n",
    "        f'{exchange}_{tidm}_prices.csv',\n",
    "        header=0,\n",
    "        names=['date', 'open', 'high', 'low', 'close'],\n",
    "        index_col=0,\n",
    "        usecols=[0, 1, 2, 3, 4],\n",
    "        parse_dates=True,\n",
    "        dayfirst=True,\n",
    "    )\n",
    "    df = df.sort_index()\n",
    "    functions = dict(open='first', high='max', low='min', close='last')\n",
    "    df = df.resample('W-FRI').agg(functions)\n",
    "    df = df / 100\n",
    "    return df\n",
    "\n",
    "\n",
    "def remainder_zero(series, divisor):\n",
    "    '''Increment number until remainder is zero.'''\n",
    "    def increment_dividend(dividend, divisor):\n",
    "        '''Increment dividend while remainder does not equal zero.'''\n",
    "        while dividend % divisor != 0:\n",
    "            dividend += 1\n",
    "        return dividend\n",
    "    series = series.map(lambda x: increment_dividend(x, divisor))\n",
    "    return series"
   ]
  },
  {
   "cell_type": "code",
   "execution_count": 3,
   "id": "a09caea8-2371-4f3d-8ae6-9ebd70546a0d",
   "metadata": {},
   "outputs": [],
   "source": [
    "# Input variables.\n",
    "exchange = 'LSE'\n",
    "tidm = 'HSV'\n",
    "system = pd.Series({'1': 48, '2': 24, '3': 12, '4': 6})  # System look back periods.\n",
    "position_size = 7500  # Position size in major currency unit.\n",
    "risk_pct = 0.2  # Percentage risk per trade.\n",
    "commission = 11.95  # Commission per trade.\n",
    "sduty = 0.5  # Stamp Duty percentage."
   ]
  },
  {
   "cell_type": "code",
   "execution_count": 4,
   "id": "3a3ee373-f5aa-4ab2-a242-d429b2c164b5",
   "metadata": {},
   "outputs": [],
   "source": [
    "# Derived variables.\n",
    "n = system.size # Number of systems."
   ]
  },
  {
   "cell_type": "code",
   "execution_count": 5,
   "id": "7cfc6df0-d0b7-4a35-815e-6342a42f32f7",
   "metadata": {
    "tags": []
   },
   "outputs": [],
   "source": [
    "# Import weekly prices.\n",
    "price = weekly(exchange, tidm)"
   ]
  },
  {
   "cell_type": "code",
   "execution_count": 6,
   "id": "2a727a92-7bcb-4dbf-b436-24516661a194",
   "metadata": {
    "tags": []
   },
   "outputs": [],
   "source": [
    "# System 1 Donchian channel.\n",
    "p1 = system.loc['1']\n",
    "dc1 = donchian(price, p1)"
   ]
  },
  {
   "cell_type": "code",
   "execution_count": 7,
   "id": "864e842c-a8a5-4079-bab1-7ad6a6e99b3d",
   "metadata": {},
   "outputs": [
    {
     "ename": "NameError",
     "evalue": "name 'period' is not defined",
     "output_type": "error",
     "traceback": [
      "\u001b[0;31m---------------------------------------------------------------------------\u001b[0m",
      "\u001b[0;31mNameError\u001b[0m                                 Traceback (most recent call last)",
      "Input \u001b[0;32mIn [7]\u001b[0m, in \u001b[0;36m<cell line: 2>\u001b[0;34m()\u001b[0m\n\u001b[1;32m      1\u001b[0m \u001b[38;5;66;03m# Buy & sell signals.\u001b[39;00m\n\u001b[0;32m----> 2\u001b[0m s1 \u001b[38;5;241m=\u001b[39m \u001b[43msignal\u001b[49m\u001b[43m(\u001b[49m\u001b[43mprice\u001b[49m\u001b[43m,\u001b[49m\u001b[43m \u001b[49m\u001b[43mdc1\u001b[49m\u001b[43m)\u001b[49m\n\u001b[1;32m      3\u001b[0m s1\n",
      "Input \u001b[0;32mIn [2]\u001b[0m, in \u001b[0;36msignal\u001b[0;34m(price, donchian)\u001b[0m\n\u001b[1;32m     14\u001b[0m df[\u001b[38;5;124m'\u001b[39m\u001b[38;5;124msell\u001b[39m\u001b[38;5;124m'\u001b[39m] \u001b[38;5;241m=\u001b[39m np\u001b[38;5;241m.\u001b[39mwhere(price\u001b[38;5;241m.\u001b[39mclose \u001b[38;5;241m<\u001b[39m donchian\u001b[38;5;241m.\u001b[39mmid, \u001b[38;5;241m1\u001b[39m, \u001b[38;5;241m0\u001b[39m)\n\u001b[1;32m     15\u001b[0m df[\u001b[38;5;124m'\u001b[39m\u001b[38;5;124mstate\u001b[39m\u001b[38;5;124m'\u001b[39m] \u001b[38;5;241m=\u001b[39m \u001b[38;5;241m0\u001b[39m\n\u001b[0;32m---> 16\u001b[0m \u001b[38;5;28;01mfor\u001b[39;00m i \u001b[38;5;129;01min\u001b[39;00m \u001b[38;5;28mrange\u001b[39m(\u001b[43mperiod\u001b[49m, \u001b[38;5;28mlen\u001b[39m(df)):\n\u001b[1;32m     17\u001b[0m     \u001b[38;5;28;01mif\u001b[39;00m df\u001b[38;5;241m.\u001b[39mloc[df\u001b[38;5;241m.\u001b[39mindex[i], \u001b[38;5;124m'\u001b[39m\u001b[38;5;124mbuy\u001b[39m\u001b[38;5;124m'\u001b[39m] \u001b[38;5;241m==\u001b[39m \u001b[38;5;241m1\u001b[39m \u001b[38;5;129;01mand\u001b[39;00m df\u001b[38;5;241m.\u001b[39mloc[df\u001b[38;5;241m.\u001b[39mindex[i \u001b[38;5;241m-\u001b[39m \u001b[38;5;241m1\u001b[39m], \u001b[38;5;124m'\u001b[39m\u001b[38;5;124mstate\u001b[39m\u001b[38;5;124m'\u001b[39m] \u001b[38;5;241m==\u001b[39m \u001b[38;5;241m0\u001b[39m:\n\u001b[1;32m     18\u001b[0m         df\u001b[38;5;241m.\u001b[39mloc[df\u001b[38;5;241m.\u001b[39mindex[i], \u001b[38;5;124m'\u001b[39m\u001b[38;5;124mstate\u001b[39m\u001b[38;5;124m'\u001b[39m] \u001b[38;5;241m=\u001b[39m \u001b[38;5;241m1\u001b[39m\n",
      "\u001b[0;31mNameError\u001b[0m: name 'period' is not defined"
     ]
    }
   ],
   "source": [
    "# Buy & sell signals.\n",
    "s1 = signal(price, dc1)\n",
    "s1"
   ]
  },
  {
   "cell_type": "code",
   "execution_count": null,
   "id": "de525b32-fd7a-4c84-b843-189d9649163c",
   "metadata": {},
   "outputs": [],
   "source": [
    "# # Entry & exit signals.\n",
    "# df['buy'] = np.where(df.close > df.upr, 1, 0)\n",
    "# df['sell'] = np.where(df.close < df.mid, 1, 0)\n",
    "# df['state'] = 0\n",
    "# for i in range(period, len(df)):\n",
    "#     if df.loc[df.index[i], 'buy'] == 1 and df.loc[df.index[i - 1], 'state'] == 0:\n",
    "#         df.loc[df.index[i], 'state'] = 1\n",
    "#     elif df.loc[df.index[i], 'sell'] == 1:\n",
    "#         df.loc[df.index[i], 'state'] = 0\n",
    "#     else:\n",
    "#         df.loc[df.index[i], 'state'] = df.loc[df.index[i - 1], 'state']\n",
    "# df['entry'] = np.where(np.logical_and(df.state == 1, df.state.shift(periods=1) == 0), 1, 0)\n",
    "# df['exit'] = np.where(np.logical_and(df.state == 0, df.state.shift(periods=1) == 1), 1, 0)"
   ]
  },
  {
   "cell_type": "code",
   "execution_count": null,
   "id": "56968299-2ff0-45b4-9382-0e68466a0313",
   "metadata": {},
   "outputs": [],
   "source": [
    "# # Position Size.\n",
    "# db = pd.DataFrame(df[df.entry == 1])\n",
    "# db['volatility'] = abs((db.mid - db.close) / db.close)\n",
    "# db['risk_amt'] = (position_size * risk_pct) / db.volatility\n",
    "# db['shares'] = (db.risk_amt / db.close).astype('int')\n",
    "# (\n",
    "#     db.style\n",
    "#         .format_index(lambda s: s.strftime(\"%Y-%m-%d\"))\n",
    "#         .format({\n",
    "#             'open': '{:.3f}',\n",
    "#             'high': '{:.3f}',\n",
    "#             'low': '{:.3f}',\n",
    "#             'close': '{:.3f}',\n",
    "#             'upr': '{:.3f}',\n",
    "#             'lwr': '{:.3f}',\n",
    "#             'mid': '{:.3f}',\n",
    "#             'volatility': '{:.1%}',\n",
    "#             'risk_amt': '{:,.2f}',\n",
    "#         })\n",
    "# )"
   ]
  }
 ],
 "metadata": {
  "kernelspec": {
   "display_name": "Python 3 (ipykernel)",
   "language": "python",
   "name": "python3"
  },
  "language_info": {
   "codemirror_mode": {
    "name": "ipython",
    "version": 3
   },
   "file_extension": ".py",
   "mimetype": "text/x-python",
   "name": "python",
   "nbconvert_exporter": "python",
   "pygments_lexer": "ipython3",
   "version": "3.10.4"
  }
 },
 "nbformat": 4,
 "nbformat_minor": 5
}

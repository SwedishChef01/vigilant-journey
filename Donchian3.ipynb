{
 "cells": [
  {
   "cell_type": "code",
   "execution_count": 1,
   "id": "d2680890-ccf9-48cf-b193-9a974d3a0482",
   "metadata": {
    "tags": []
   },
   "outputs": [],
   "source": [
    "import numpy as np\n",
    "import pandas as pd"
   ]
  },
  {
   "cell_type": "code",
   "execution_count": 2,
   "id": "a54398ef-fa4e-48a4-b223-fc756e0df52c",
   "metadata": {
    "tags": []
   },
   "outputs": [],
   "source": [
    "def weekly(exchange, tidm):\n",
    "    '''Weekly closing prices from SharePad csv file of daily prices.'''\n",
    "    df = pd.read_csv(\n",
    "        f'{exchange}_{tidm}_prices.csv',\n",
    "        header=0,\n",
    "        names=['date', 'open', 'high', 'low', 'close'],\n",
    "        index_col=0,\n",
    "        usecols=[0, 1, 2, 3, 4],\n",
    "        parse_dates=True,\n",
    "        dayfirst=True,\n",
    "    )\n",
    "    df = df.sort_index()\n",
    "    functions = dict(open='first', high='max', low='min', close='last')\n",
    "    df = df.resample('W-FRI').agg(functions)\n",
    "    df = df / 100\n",
    "    return df"
   ]
  },
  {
   "cell_type": "code",
   "execution_count": 3,
   "id": "a09caea8-2371-4f3d-8ae6-9ebd70546a0d",
   "metadata": {},
   "outputs": [],
   "source": [
    "# Trade parameters.\n",
    "exchange = 'LSE'\n",
    "tidm = 'HSV'\n",
    "period = 48  # Look back period.\n",
    "position_size = 7500  # Position size in major currency unit.\n",
    "risk_pct = 0.2  # Percentage risk per trade.\n",
    "commission = 11.95  # Commission per trade.\n",
    "sduty = 0.5  # Stamp Duty percentage."
   ]
  },
  {
   "cell_type": "code",
   "execution_count": 4,
   "id": "7cfc6df0-d0b7-4a35-815e-6342a42f32f7",
   "metadata": {
    "tags": []
   },
   "outputs": [],
   "source": [
    "# Import weekly closing prices.\n",
    "df = weekly(exchange, tidm)"
   ]
  },
  {
   "cell_type": "code",
   "execution_count": 5,
   "id": "2a727a92-7bcb-4dbf-b436-24516661a194",
   "metadata": {
    "tags": []
   },
   "outputs": [],
   "source": [
    "# Donchian channels.\n",
    "df['upr'] = df.high.rolling(period).max().shift(periods=1)\n",
    "df['lwr'] = df.low.rolling(period).min().shift(periods=1)\n",
    "df['mid'] = 0.5 * (df.upr + df.lwr)"
   ]
  },
  {
   "cell_type": "code",
   "execution_count": 6,
   "id": "de525b32-fd7a-4c84-b843-189d9649163c",
   "metadata": {},
   "outputs": [],
   "source": [
    "# Trade entry & exit signals.\n",
    "df['buy'] = np.where(df.close > df.upr, 1, 0)\n",
    "df['sell'] = np.where(df.close < df.mid, 1, 0)\n",
    "df['state'] = 0\n",
    "for i in range(period, len(df)):\n",
    "    if df.loc[df.index[i], 'buy'] == 1 and df.loc[df.index[i - 1], 'state'] == 0:\n",
    "        df.loc[df.index[i], 'state'] = 1\n",
    "    elif df.loc[df.index[i], 'sell'] == 1:\n",
    "        df.loc[df.index[i], 'state'] = 0\n",
    "    else:\n",
    "        df.loc[df.index[i], 'state'] = df.loc[df.index[i - 1], 'state']\n",
    "df['entry'] = np.where(np.logical_and(df.state == 1, df.state.shift(periods=1) == 0), 1, 0)\n",
    "df['exit'] = np.where(np.logical_and(df.state == 0, df.state.shift(periods=1) == 1), 1, 0)"
   ]
  },
  {
   "cell_type": "code",
   "execution_count": 7,
   "id": "56968299-2ff0-45b4-9382-0e68466a0313",
   "metadata": {},
   "outputs": [
    {
     "name": "stderr",
     "output_type": "stream",
     "text": [
      "<ipython-input-7-23b943c9db9a>:3: SettingWithCopyWarning: \n",
      "A value is trying to be set on a copy of a slice from a DataFrame.\n",
      "Try using .loc[row_indexer,col_indexer] = value instead\n",
      "\n",
      "See the caveats in the documentation: https://pandas.pydata.org/pandas-docs/stable/user_guide/indexing.html#returning-a-view-versus-a-copy\n",
      "  df1['volatility'] = abs((df1.mid - df1.close) / df1.close)\n"
     ]
    }
   ],
   "source": [
    "# Trade list.\n",
    "df1 = df[df.entry == 1]\n",
    "df1['volatility'] = abs((df1.mid - df1.close) / df1.close)\n",
    "# td['risk_amt'] = np.where(td.entry == 1, ((position_size * risk_pct) / td.volatility), 0)\n",
    "# td['shares'] = np.where(td.entry == 1, (td.risk_amt / td.close).astype('int'), 0)"
   ]
  }
 ],
 "metadata": {
  "kernelspec": {
   "display_name": "Python 3",
   "language": "python",
   "name": "python3"
  },
  "language_info": {
   "codemirror_mode": {
    "name": "ipython",
    "version": 3
   },
   "file_extension": ".py",
   "mimetype": "text/x-python",
   "name": "python",
   "nbconvert_exporter": "python",
   "pygments_lexer": "ipython3",
   "version": "3.8.8"
  }
 },
 "nbformat": 4,
 "nbformat_minor": 5
}

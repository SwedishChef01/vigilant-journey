{
 "cells": [
  {
   "cell_type": "code",
   "execution_count": 1,
   "id": "d2680890-ccf9-48cf-b193-9a974d3a0482",
   "metadata": {
    "tags": []
   },
   "outputs": [],
   "source": [
    "# Donchian Weekly Trend Following System\n",
    "import gta_indicator\n",
    "import gta_prices\n",
    "import gta_signals\n",
    "import numpy as np\n",
    "import pandas as pd"
   ]
  },
  {
   "cell_type": "code",
   "execution_count": 2,
   "id": "a09caea8-2371-4f3d-8ae6-9ebd70546a0d",
   "metadata": {},
   "outputs": [],
   "source": [
    "# Trade parameters.\n",
    "exchange = 'LSE'\n",
    "tidm = 'IBPO'\n",
    "timeframe = 'Weekly'\n",
    "filename = f'{exchange}_{tidm}_prices.csv'\n",
    "p1 = 48 # System 1 look back period.\n",
    "p2 = 24 # System 2 look back period.\n",
    "p3 = 12 # System 3 look back period.\n",
    "p4 = 6  # System 4 look back period.\n",
    "position_size = 7500  # Position size in major currency unit.\n",
    "risk_pct = 0.2 # Percentage risk per trade.\n",
    "charges = 11.95  # Commission per trade.\n",
    "sduty = 0.0  # Stamp Duty percentage."
   ]
  },
  {
   "cell_type": "code",
   "execution_count": 3,
   "id": "7cfc6df0-d0b7-4a35-815e-6342a42f32f7",
   "metadata": {
    "tags": []
   },
   "outputs": [],
   "source": [
    "# Import weekly closing prices.\n",
    "prices = gta_prices.weekly(exchange, tidm)"
   ]
  },
  {
   "cell_type": "code",
   "execution_count": 4,
   "id": "2a727a92-7bcb-4dbf-b436-24516661a194",
   "metadata": {
    "tags": []
   },
   "outputs": [],
   "source": [
    "# Donchian channels.\n",
    "# dc1 = gta_indicator.donchian(prices, p1)\n",
    "# dc2 = gta_indicator.donchian(prices, p2)\n",
    "# dc3 = gta_indicator.donchian(prices, p3)\n",
    "# dc4 = gta_indicator.donchian(prices, p4)"
   ]
  },
  {
   "cell_type": "code",
   "execution_count": 5,
   "id": "a33ea9e4-c630-42c5-9925-596450694960",
   "metadata": {},
   "outputs": [
    {
     "name": "stdout",
     "output_type": "stream",
     "text": [
      "p1 48\n",
      "p2 24\n",
      "p3 12\n",
      "p4 6\n"
     ]
    }
   ],
   "source": [
    "period = {'p1': p1, 'p2': p2, 'p3': p3, 'p4': p4}\n",
    "for key, value in period.items():\n",
    "    print(key, value)"
   ]
  },
  {
   "cell_type": "code",
   "execution_count": 6,
   "id": "0786c5b5-e7c7-4740-802b-98fc6ae2f553",
   "metadata": {},
   "outputs": [
    {
     "data": {
      "text/plain": [
       "48"
      ]
     },
     "execution_count": 6,
     "metadata": {},
     "output_type": "execute_result"
    }
   ],
   "source": [
    "period['p1']"
   ]
  },
  {
   "cell_type": "code",
   "execution_count": 7,
   "id": "27718f7f-db80-4b57-b258-ba7fd7d8ba88",
   "metadata": {},
   "outputs": [
    {
     "data": {
      "text/plain": [
       "{'dc1':             upr   lwr   mid\n",
       " date                       \n",
       " 2010-09-17  NaN   NaN   NaN\n",
       " 2010-09-24  NaN   NaN   NaN\n",
       " 2010-10-01  NaN   NaN   NaN\n",
       " 2010-10-08  NaN   NaN   NaN\n",
       " 2010-10-15  NaN   NaN   NaN\n",
       " ...         ...   ...   ...\n",
       " 2022-04-15  4.0  2.48  3.24\n",
       " 2022-04-22  4.3  2.48  3.39\n",
       " 2022-04-29  4.3  2.48  3.39\n",
       " 2022-05-06  4.3  2.48  3.39\n",
       " 2022-05-13  4.3  2.48  3.39\n",
       " \n",
       " [609 rows x 3 columns],\n",
       " 'dc2':             upr   lwr   mid\n",
       " date                       \n",
       " 2010-09-17  NaN   NaN   NaN\n",
       " 2010-09-24  NaN   NaN   NaN\n",
       " 2010-10-01  NaN   NaN   NaN\n",
       " 2010-10-08  NaN   NaN   NaN\n",
       " 2010-10-15  NaN   NaN   NaN\n",
       " ...         ...   ...   ...\n",
       " 2022-04-15  4.0  2.54  3.27\n",
       " 2022-04-22  4.3  2.54  3.42\n",
       " 2022-04-29  4.3  2.54  3.42\n",
       " 2022-05-06  4.3  2.54  3.42\n",
       " 2022-05-13  4.3  2.54  3.42\n",
       " \n",
       " [609 rows x 3 columns],\n",
       " 'dc3':             upr   lwr   mid\n",
       " date                       \n",
       " 2010-09-17  NaN   NaN   NaN\n",
       " 2010-09-24  NaN   NaN   NaN\n",
       " 2010-10-01  NaN   NaN   NaN\n",
       " 2010-10-08  NaN   NaN   NaN\n",
       " 2010-10-15  NaN   NaN   NaN\n",
       " ...         ...   ...   ...\n",
       " 2022-04-15  4.0  3.04  3.52\n",
       " 2022-04-22  4.3  3.04  3.67\n",
       " 2022-04-29  4.3  3.34  3.82\n",
       " 2022-05-06  4.3  3.34  3.82\n",
       " 2022-05-13  4.3  3.34  3.82\n",
       " \n",
       " [609 rows x 3 columns],\n",
       " 'dc4':             upr   lwr   mid\n",
       " date                       \n",
       " 2010-09-17  NaN   NaN   NaN\n",
       " 2010-09-24  NaN   NaN   NaN\n",
       " 2010-10-01  NaN   NaN   NaN\n",
       " 2010-10-08  NaN   NaN   NaN\n",
       " 2010-10-15  NaN   NaN   NaN\n",
       " ...         ...   ...   ...\n",
       " 2022-04-15  4.0  3.44  3.72\n",
       " 2022-04-22  4.3  3.44  3.87\n",
       " 2022-04-29  4.3  3.70  4.00\n",
       " 2022-05-06  4.3  3.78  4.04\n",
       " 2022-05-13  4.3  3.82  4.06\n",
       " \n",
       " [609 rows x 3 columns]}"
      ]
     },
     "execution_count": 7,
     "metadata": {},
     "output_type": "execute_result"
    }
   ],
   "source": [
    "dc = {}\n",
    "i = 1\n",
    "while i < len(period) + 1:\n",
    "    # dynamically create key\n",
    "    key = f'dc{i}'\n",
    "    # calculate value\n",
    "    value = gta_indicator.donchian(prices, period[f'p{i}'])\n",
    "    dc[key] = value \n",
    "    i += 1\n",
    "dc"
   ]
  }
 ],
 "metadata": {
  "kernelspec": {
   "display_name": "Python 3",
   "language": "python",
   "name": "python3"
  },
  "language_info": {
   "codemirror_mode": {
    "name": "ipython",
    "version": 3
   },
   "file_extension": ".py",
   "mimetype": "text/x-python",
   "name": "python",
   "nbconvert_exporter": "python",
   "pygments_lexer": "ipython3",
   "version": "3.8.8"
  }
 },
 "nbformat": 4,
 "nbformat_minor": 5
}

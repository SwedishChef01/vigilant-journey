{
 "cells": [
  {
   "cell_type": "code",
   "execution_count": 1,
   "id": "d2680890-ccf9-48cf-b193-9a974d3a0482",
   "metadata": {
    "tags": []
   },
   "outputs": [],
   "source": [
    "# RSI PowerZones Weekly\n",
    "import gta_indicator\n",
    "import gta_plot\n",
    "import gta_prices\n",
    "import gta_signals\n",
    "import gta_statistics\n",
    "import gta_trades\n",
    "import numpy as np\n",
    "import pandas as pd\n",
    "import plotly.graph_objects as go\n",
    "from plotly.subplots import make_subplots"
   ]
  },
  {
   "cell_type": "code",
   "execution_count": 2,
   "id": "a09caea8-2371-4f3d-8ae6-9ebd70546a0d",
   "metadata": {},
   "outputs": [],
   "source": [
    "# Trade parameters.\n",
    "exchange = 'LSE'\n",
    "tidm = 'IBPO'\n",
    "timeframe = 'Weekly'\n",
    "filename = f'{exchange}_{tidm}_prices.csv'\n",
    "history_start = '2010-09-14'\n",
    "p1 = 48 # System 1 look back period.\n",
    "p2 = 24 # System 2 look back period.\n",
    "p3 = 12 # System 3 look back period.\n",
    "p4 = 6  # System 4 look back period.\n",
    "look_back = (p1, p2, p3, p4)\n",
    "strategy = f'Donchian'\n",
    "position_size = 7500  # Position size in major currency unit.\n",
    "charges = 11.95  # Commission per trade.\n",
    "stamp_duty = 0.0  # Stamp Duty percentage.\n",
    "stop_loss = 20  # Stop Loss percentage."
   ]
  },
  {
   "cell_type": "code",
   "execution_count": 3,
   "id": "7cfc6df0-d0b7-4a35-815e-6342a42f32f7",
   "metadata": {},
   "outputs": [],
   "source": [
    "# Import weekly closing prices.\n",
    "df = gta_prices.weekly(exchange, tidm, history_start)"
   ]
  },
  {
   "cell_type": "code",
   "execution_count": 4,
   "id": "ae00f39e-5e14-498c-a883-4929760695a3",
   "metadata": {
    "tags": []
   },
   "outputs": [],
   "source": [
    "# Calculate Donchian channel for each System.\n",
    "for period in look_back:\n",
    "    sys = look_back.index(period) + 1\n",
    "    dc = gta_indicator.donchian(df, sys, period)\n",
    "    df = df.join(dc)"
   ]
  },
  {
   "cell_type": "code",
   "execution_count": 5,
   "id": "0ebd7e3e-b304-477e-9686-166085915a7e",
   "metadata": {
    "tags": []
   },
   "outputs": [],
   "source": [
    "# System 1 long trades.\n",
    "\n",
    "# Check for close above upper Donchian channel.\n",
    "df['bto1'] = np.where(df.close > df.upr1, 1, 0)\n",
    "\n",
    "# Check for close below mid Donchian channel.\n",
    "df['stc1'] = np.where(df.close < df.mid1, 1, 0)\n",
    "\n",
    "# Trade state signal.\n",
    "df['ss1'] = gta_signals.state_signal(df.bto1, df.stc1, p1)\n",
    "\n",
    "# Trade entry & exit flags.\n",
    "df['en1'] = np.where(np.logical_and(df.ss1 == 1, df.ss1.shift(periods=1) == 0), 1, 0)\n",
    "df['ex1'] = np.where(np.logical_and(df.ss1 == 0, df.ss1.shift(periods=1) == 1), 1, 0)"
   ]
  },
  {
   "cell_type": "code",
   "execution_count": 6,
   "id": "e1ded219-3b52-4527-85f4-645bc9292876",
   "metadata": {},
   "outputs": [],
   "source": [
    "# System 2 long trades.\n",
    "\n",
    "# Check for close below mid Donchian channel.\n",
    "df['stc2'] = np.where(df.close < df.mid2, 1, 0)\n",
    "\n",
    "# Trade state signal.\n",
    "df['ss2'] = gta_signals.state_signal(df.bto1, df.stc2, p2)\n",
    "\n",
    "# Trade exit flags.\n",
    "df['ex2'] = np.where(np.logical_and(df.ss2 == 0, df.ss2.shift(periods=1) == 1), 1, 0)"
   ]
  },
  {
   "cell_type": "code",
   "execution_count": 7,
   "id": "ef584e21-1eaa-434e-9351-158ffe55af7c",
   "metadata": {},
   "outputs": [],
   "source": [
    "# System 3 long trades.\n",
    "\n",
    "# Check for close below mid Donchian channel.\n",
    "df['stc3'] = np.where(df.close < df.mid3, 1, 0)\n",
    "\n",
    "# Trade state signal.\n",
    "df['ss3'] = gta_signals.state_signal(df.bto1, df.stc3, p2)\n",
    "\n",
    "# Trade exit flags.\n",
    "df['ex3'] = np.where(np.logical_and(df.ss3 == 0, df.ss3.shift(periods=1) == 1), 1, 0)"
   ]
  },
  {
   "cell_type": "code",
   "execution_count": 8,
   "id": "059287a5-4ce7-471b-b391-c1b1229943e8",
   "metadata": {},
   "outputs": [
    {
     "data": {
      "text/html": [
       "<div>\n",
       "<style scoped>\n",
       "    .dataframe tbody tr th:only-of-type {\n",
       "        vertical-align: middle;\n",
       "    }\n",
       "\n",
       "    .dataframe tbody tr th {\n",
       "        vertical-align: top;\n",
       "    }\n",
       "\n",
       "    .dataframe thead th {\n",
       "        text-align: right;\n",
       "    }\n",
       "</style>\n",
       "<table border=\"1\" class=\"dataframe\">\n",
       "  <thead>\n",
       "    <tr style=\"text-align: right;\">\n",
       "      <th></th>\n",
       "      <th>entry_price</th>\n",
       "      <th>exit_date</th>\n",
       "      <th>exit_price</th>\n",
       "    </tr>\n",
       "    <tr>\n",
       "      <th>date</th>\n",
       "      <th></th>\n",
       "      <th></th>\n",
       "      <th></th>\n",
       "    </tr>\n",
       "  </thead>\n",
       "  <tbody>\n",
       "    <tr>\n",
       "      <th>2011-08-26</th>\n",
       "      <td>2.260</td>\n",
       "      <td>2013-08-02</td>\n",
       "      <td>3.51</td>\n",
       "    </tr>\n",
       "    <tr>\n",
       "      <th>2011-08-26</th>\n",
       "      <td>2.260</td>\n",
       "      <td>2012-06-01</td>\n",
       "      <td>3.45</td>\n",
       "    </tr>\n",
       "    <tr>\n",
       "      <th>2016-05-13</th>\n",
       "      <td>0.420</td>\n",
       "      <td>2017-07-21</td>\n",
       "      <td>0.66</td>\n",
       "    </tr>\n",
       "    <tr>\n",
       "      <th>2016-05-13</th>\n",
       "      <td>0.420</td>\n",
       "      <td>2017-02-17</td>\n",
       "      <td>0.82</td>\n",
       "    </tr>\n",
       "    <tr>\n",
       "      <th>2018-09-07</th>\n",
       "      <td>0.825</td>\n",
       "      <td>2020-02-28</td>\n",
       "      <td>2.17</td>\n",
       "    </tr>\n",
       "    <tr>\n",
       "      <th>2018-09-07</th>\n",
       "      <td>0.825</td>\n",
       "      <td>2019-10-11</td>\n",
       "      <td>2.75</td>\n",
       "    </tr>\n",
       "    <tr>\n",
       "      <th>2020-11-20</th>\n",
       "      <td>2.880</td>\n",
       "      <td>2021-05-07</td>\n",
       "      <td>2.97</td>\n",
       "    </tr>\n",
       "    <tr>\n",
       "      <th>2020-11-20</th>\n",
       "      <td>2.880</td>\n",
       "      <td>2021-01-29</td>\n",
       "      <td>3.15</td>\n",
       "    </tr>\n",
       "    <tr>\n",
       "      <th>2022-04-15</th>\n",
       "      <td>4.230</td>\n",
       "      <td>2022-04-22</td>\n",
       "      <td>4.28</td>\n",
       "    </tr>\n",
       "    <tr>\n",
       "      <th>2022-04-15</th>\n",
       "      <td>4.230</td>\n",
       "      <td>2022-04-22</td>\n",
       "      <td>4.28</td>\n",
       "    </tr>\n",
       "  </tbody>\n",
       "</table>\n",
       "</div>"
      ],
      "text/plain": [
       "            entry_price  exit_date  exit_price\n",
       "date                                          \n",
       "2011-08-26        2.260 2013-08-02        3.51\n",
       "2011-08-26        2.260 2012-06-01        3.45\n",
       "2016-05-13        0.420 2017-07-21        0.66\n",
       "2016-05-13        0.420 2017-02-17        0.82\n",
       "2018-09-07        0.825 2020-02-28        2.17\n",
       "2018-09-07        0.825 2019-10-11        2.75\n",
       "2020-11-20        2.880 2021-05-07        2.97\n",
       "2020-11-20        2.880 2021-01-29        3.15\n",
       "2022-04-15        4.230 2022-04-22        4.28\n",
       "2022-04-15        4.230 2022-04-22        4.28"
      ]
     },
     "execution_count": 8,
     "metadata": {},
     "output_type": "execute_result"
    }
   ],
   "source": [
    "# Trade list.\n",
    "td1 = gta_trades.trade_list(df.close, df.en1,  df.ex1)\n",
    "for i in range(len(look_back) - 1):\n",
    "    i += 1\n",
    "    frame = gta_trades.trade_list(df.close, df.en1,  df[f'ex{i}'])\n",
    "    td = pd.concat([td1, frame], axis=0)\n",
    "td = td.sort_index()\n",
    "td"
   ]
  }
 ],
 "metadata": {
  "kernelspec": {
   "display_name": "Python 3",
   "language": "python",
   "name": "python3"
  },
  "language_info": {
   "codemirror_mode": {
    "name": "ipython",
    "version": 3
   },
   "file_extension": ".py",
   "mimetype": "text/x-python",
   "name": "python",
   "nbconvert_exporter": "python",
   "pygments_lexer": "ipython3",
   "version": "3.8.8"
  }
 },
 "nbformat": 4,
 "nbformat_minor": 5
}

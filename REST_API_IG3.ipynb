{
 "cells": [
  {
   "cell_type": "code",
   "execution_count": 1,
   "id": "2e0deb45-3b01-40bb-93a8-8c651af61864",
   "metadata": {},
   "outputs": [],
   "source": [
    "import numpy as np\n",
    "import pandas as pd\n",
    "import requests"
   ]
  },
  {
   "cell_type": "code",
   "execution_count": 2,
   "id": "9dc4e78f-415a-4175-8d84-002cb53a11c7",
   "metadata": {},
   "outputs": [],
   "source": [
    "# Functions"
   ]
  },
  {
   "cell_type": "code",
   "execution_count": 3,
   "id": "390edb92-0dc7-44fb-9b07-4d6575d1f1ad",
   "metadata": {},
   "outputs": [],
   "source": [
    "# Login\n",
    "url = 'https://demo-api.ig.com/gateway/deal/session'\n",
    "\n",
    "headers={\n",
    "    'Content-Type': 'application/json; charset=UTF-8',\n",
    "    'Accept': 'application/json; charset=UTF-8',\n",
    "    'VERSION': '2',\n",
    "    'X-IG-API-KEY': 'c6625d5036d679e7ca85095e12ceadd55b7b04a8',\n",
    "}\n",
    "\n",
    "login={\n",
    "    'identifier': 'gpjohno1',\n",
    "    'password': 'Fly1ngF1sh!'\n",
    "}\n",
    "\n",
    "r = requests.post(url, headers=headers, json=login)"
   ]
  },
  {
   "cell_type": "code",
   "execution_count": 4,
   "id": "9043e1e0-7c20-4623-9025-da584af64062",
   "metadata": {
    "tags": []
   },
   "outputs": [],
   "source": [
    "# Security tokens.\n",
    "cst = r.headers['CST']\n",
    "x_security_token = r.headers['X-SECURITY-TOKEN']"
   ]
  },
  {
   "cell_type": "code",
   "execution_count": 6,
   "id": "3478e096-4c49-4d11-95e6-afc1a345ffdc",
   "metadata": {},
   "outputs": [
    {
     "data": {
      "text/plain": [
       "[{'id': '4193953',\n",
       "  'name': 'My Watchlist',\n",
       "  'editable': True,\n",
       "  'deleteable': False,\n",
       "  'defaultSystemWatchlist': False},\n",
       " {'id': 'Popular Markets',\n",
       "  'name': 'Popular Markets',\n",
       "  'editable': False,\n",
       "  'deleteable': False,\n",
       "  'defaultSystemWatchlist': True},\n",
       " {'id': 'Major Indices',\n",
       "  'name': 'Major Indices',\n",
       "  'editable': False,\n",
       "  'deleteable': False,\n",
       "  'defaultSystemWatchlist': False},\n",
       " {'id': 'Major FX',\n",
       "  'name': 'Major FX',\n",
       "  'editable': False,\n",
       "  'deleteable': False,\n",
       "  'defaultSystemWatchlist': False},\n",
       " {'id': 'Major Commodities',\n",
       "  'name': 'Major Commodities',\n",
       "  'editable': False,\n",
       "  'deleteable': False,\n",
       "  'defaultSystemWatchlist': False},\n",
       " {'id': '4193954',\n",
       "  'name': 'Recently Traded',\n",
       "  'editable': False,\n",
       "  'deleteable': False,\n",
       "  'defaultSystemWatchlist': False}]"
      ]
     },
     "execution_count": 6,
     "metadata": {},
     "output_type": "execute_result"
    }
   ],
   "source": [
    "# Watchlists.\n",
    "url = 'https://demo-api.ig.com/gateway/deal/watchlists'\n",
    "\n",
    "headers={\n",
    "    'Content-Type': 'application/json; charset=UTF-8',\n",
    "    'Accept': 'application/json; charset=UTF-8',\n",
    "    'X-IG-API-KEY': 'c6625d5036d679e7ca85095e12ceadd55b7b04a8',\n",
    "    'CST': cst,\n",
    "    'X-SECURITY-TOKEN': x_security_token,\n",
    "}\n",
    "\n",
    "watchlists = requests.get(url, headers=headers).json()\n",
    "watchlists = watchlists['watchlists']\n",
    "watchlists"
   ]
  }
 ],
 "metadata": {
  "kernelspec": {
   "display_name": "Python 3",
   "language": "python",
   "name": "python3"
  },
  "language_info": {
   "codemirror_mode": {
    "name": "ipython",
    "version": 3
   },
   "file_extension": ".py",
   "mimetype": "text/x-python",
   "name": "python",
   "nbconvert_exporter": "python",
   "pygments_lexer": "ipython3",
   "version": "3.8.8"
  }
 },
 "nbformat": 4,
 "nbformat_minor": 5
}
